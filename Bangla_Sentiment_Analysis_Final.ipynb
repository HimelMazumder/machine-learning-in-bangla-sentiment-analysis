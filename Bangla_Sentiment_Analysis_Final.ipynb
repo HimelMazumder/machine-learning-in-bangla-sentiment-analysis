{
  "cells": [
    {
      "cell_type": "markdown",
      "metadata": {
        "id": "lEgm1HfNGDpd"
      },
      "source": [
        "# Setting up working directory"
      ]
    },
    {
      "cell_type": "code",
      "execution_count": 196,
      "metadata": {
        "colab": {
          "base_uri": "https://localhost:8080/"
        },
        "id": "jcUkXC4hk7JK",
        "outputId": "0ed05ac4-963e-4fe3-996e-56e6223347e6"
      },
      "outputs": [
        {
          "output_type": "stream",
          "name": "stdout",
          "text": [
            "Mounted at /content/drive\n"
          ]
        }
      ],
      "source": [
        "from google.colab import drive\n",
        "drive.mount('/content/drive', force_remount= True)"
      ]
    },
    {
      "cell_type": "code",
      "execution_count": 197,
      "metadata": {
        "id": "eMb2-6ys62NE"
      },
      "outputs": [],
      "source": [
        "import os\n",
        "root_directory = \"/content/drive/My Drive/\"\n",
        "project_folder = \"Colab Notebooks/Bangla_Sentiment_Analysis/\"\n",
        "\n",
        "# create and set working directory\n",
        "def create_and_set_working_directory(project_folder):\n",
        "\tif os.path.isdir(root_directory + project_folder) == False:\n",
        "\t\tos.mkdir(root_directory + project_folder)\n",
        "\t\tprint(root_directory + project_folder + \"didn't exist and so created\")\n",
        "\t\n",
        "\t# changing the OS path to project folder as working directory\n",
        "\tos.chdir(root_directory + project_folder)\n"
      ]
    },
    {
      "cell_type": "code",
      "execution_count": 198,
      "metadata": {
        "id": "Qk_MhLNU9l6t"
      },
      "outputs": [],
      "source": [
        "create_and_set_working_directory(project_folder)"
      ]
    },
    {
      "cell_type": "markdown",
      "metadata": {
        "id": "Hoks0TktCZSJ"
      },
      "source": [
        "# Loading main dataset"
      ]
    },
    {
      "cell_type": "code",
      "execution_count": 199,
      "metadata": {
        "id": "_BLtT9LvCfUJ"
      },
      "outputs": [],
      "source": [
        "import pandas as pd\n",
        "\n",
        "dataframe = pd.read_csv(\"/content/drive/MyDrive/Colab Notebooks/Bangla_Sentiment_Analysis/bangla_news_comments_12000.csv\")"
      ]
    },
    {
      "cell_type": "code",
      "execution_count": 200,
      "metadata": {
        "id": "q4NrMP_NvV8a"
      },
      "outputs": [],
      "source": [
        "path = '/content/drive/MyDrive/Colab Notebooks/Bangla_Sentiment_Analysis/dataframe_main.csv'\n",
        "with open(path, 'w', encoding = 'utf-8-sig') as f:\n",
        "  dataframe.to_csv(f)"
      ]
    },
    {
      "cell_type": "code",
      "execution_count": 201,
      "metadata": {
        "colab": {
          "base_uri": "https://localhost:8080/",
          "height": 0
        },
        "id": "NsEV5V4evnZu",
        "outputId": "164c7b89-1ddd-4f54-f5a0-ade43432b135"
      },
      "outputs": [
        {
          "output_type": "execute_result",
          "data": {
            "text/plain": [
              "   Unnamed: 0  Unnamed: 0.1  \\\n",
              "0           0             0   \n",
              "1           1             1   \n",
              "2           2             2   \n",
              "3           3             3   \n",
              "4           4             4   \n",
              "\n",
              "                                             Comment            Tag  \n",
              "0  লিখার সময় পারলে সত্য you piece of !@##$it লিখা...       Negative  \n",
              "1  এটা কেন হচ্ছে? সংশ্লিষ্ট সকলের ডিপ্রেশনের ফলে?...       Negative  \n",
              "2  আমাদের দেশের স্বাভাবিক অর্থনৈতিক গতিপ্রবাহকে ব...  Very Negative  \n",
              "3                                 চুরি নয় লুটপাট 25।  Very Negative  \n",
              "4  ইসলামী ব্যাংকের বর্তমান অবস্থা দেখে মনে হয় শাস...        Neutral  "
            ],
            "text/html": [
              "\n",
              "  <div id=\"df-213b96ba-fde8-4534-b08c-f72cae7f9572\">\n",
              "    <div class=\"colab-df-container\">\n",
              "      <div>\n",
              "<style scoped>\n",
              "    .dataframe tbody tr th:only-of-type {\n",
              "        vertical-align: middle;\n",
              "    }\n",
              "\n",
              "    .dataframe tbody tr th {\n",
              "        vertical-align: top;\n",
              "    }\n",
              "\n",
              "    .dataframe thead th {\n",
              "        text-align: right;\n",
              "    }\n",
              "</style>\n",
              "<table border=\"1\" class=\"dataframe\">\n",
              "  <thead>\n",
              "    <tr style=\"text-align: right;\">\n",
              "      <th></th>\n",
              "      <th>Unnamed: 0</th>\n",
              "      <th>Unnamed: 0.1</th>\n",
              "      <th>Comment</th>\n",
              "      <th>Tag</th>\n",
              "    </tr>\n",
              "  </thead>\n",
              "  <tbody>\n",
              "    <tr>\n",
              "      <th>0</th>\n",
              "      <td>0</td>\n",
              "      <td>0</td>\n",
              "      <td>লিখার সময় পারলে সত্য you piece of !@##$it লিখা...</td>\n",
              "      <td>Negative</td>\n",
              "    </tr>\n",
              "    <tr>\n",
              "      <th>1</th>\n",
              "      <td>1</td>\n",
              "      <td>1</td>\n",
              "      <td>এটা কেন হচ্ছে? সংশ্লিষ্ট সকলের ডিপ্রেশনের ফলে?...</td>\n",
              "      <td>Negative</td>\n",
              "    </tr>\n",
              "    <tr>\n",
              "      <th>2</th>\n",
              "      <td>2</td>\n",
              "      <td>2</td>\n",
              "      <td>আমাদের দেশের স্বাভাবিক অর্থনৈতিক গতিপ্রবাহকে ব...</td>\n",
              "      <td>Very Negative</td>\n",
              "    </tr>\n",
              "    <tr>\n",
              "      <th>3</th>\n",
              "      <td>3</td>\n",
              "      <td>3</td>\n",
              "      <td>চুরি নয় লুটপাট 25।</td>\n",
              "      <td>Very Negative</td>\n",
              "    </tr>\n",
              "    <tr>\n",
              "      <th>4</th>\n",
              "      <td>4</td>\n",
              "      <td>4</td>\n",
              "      <td>ইসলামী ব্যাংকের বর্তমান অবস্থা দেখে মনে হয় শাস...</td>\n",
              "      <td>Neutral</td>\n",
              "    </tr>\n",
              "  </tbody>\n",
              "</table>\n",
              "</div>\n",
              "      <button class=\"colab-df-convert\" onclick=\"convertToInteractive('df-213b96ba-fde8-4534-b08c-f72cae7f9572')\"\n",
              "              title=\"Convert this dataframe to an interactive table.\"\n",
              "              style=\"display:none;\">\n",
              "        \n",
              "  <svg xmlns=\"http://www.w3.org/2000/svg\" height=\"24px\"viewBox=\"0 0 24 24\"\n",
              "       width=\"24px\">\n",
              "    <path d=\"M0 0h24v24H0V0z\" fill=\"none\"/>\n",
              "    <path d=\"M18.56 5.44l.94 2.06.94-2.06 2.06-.94-2.06-.94-.94-2.06-.94 2.06-2.06.94zm-11 1L8.5 8.5l.94-2.06 2.06-.94-2.06-.94L8.5 2.5l-.94 2.06-2.06.94zm10 10l.94 2.06.94-2.06 2.06-.94-2.06-.94-.94-2.06-.94 2.06-2.06.94z\"/><path d=\"M17.41 7.96l-1.37-1.37c-.4-.4-.92-.59-1.43-.59-.52 0-1.04.2-1.43.59L10.3 9.45l-7.72 7.72c-.78.78-.78 2.05 0 2.83L4 21.41c.39.39.9.59 1.41.59.51 0 1.02-.2 1.41-.59l7.78-7.78 2.81-2.81c.8-.78.8-2.07 0-2.86zM5.41 20L4 18.59l7.72-7.72 1.47 1.35L5.41 20z\"/>\n",
              "  </svg>\n",
              "      </button>\n",
              "      \n",
              "  <style>\n",
              "    .colab-df-container {\n",
              "      display:flex;\n",
              "      flex-wrap:wrap;\n",
              "      gap: 12px;\n",
              "    }\n",
              "\n",
              "    .colab-df-convert {\n",
              "      background-color: #E8F0FE;\n",
              "      border: none;\n",
              "      border-radius: 50%;\n",
              "      cursor: pointer;\n",
              "      display: none;\n",
              "      fill: #1967D2;\n",
              "      height: 32px;\n",
              "      padding: 0 0 0 0;\n",
              "      width: 32px;\n",
              "    }\n",
              "\n",
              "    .colab-df-convert:hover {\n",
              "      background-color: #E2EBFA;\n",
              "      box-shadow: 0px 1px 2px rgba(60, 64, 67, 0.3), 0px 1px 3px 1px rgba(60, 64, 67, 0.15);\n",
              "      fill: #174EA6;\n",
              "    }\n",
              "\n",
              "    [theme=dark] .colab-df-convert {\n",
              "      background-color: #3B4455;\n",
              "      fill: #D2E3FC;\n",
              "    }\n",
              "\n",
              "    [theme=dark] .colab-df-convert:hover {\n",
              "      background-color: #434B5C;\n",
              "      box-shadow: 0px 1px 3px 1px rgba(0, 0, 0, 0.15);\n",
              "      filter: drop-shadow(0px 1px 2px rgba(0, 0, 0, 0.3));\n",
              "      fill: #FFFFFF;\n",
              "    }\n",
              "  </style>\n",
              "\n",
              "      <script>\n",
              "        const buttonEl =\n",
              "          document.querySelector('#df-213b96ba-fde8-4534-b08c-f72cae7f9572 button.colab-df-convert');\n",
              "        buttonEl.style.display =\n",
              "          google.colab.kernel.accessAllowed ? 'block' : 'none';\n",
              "\n",
              "        async function convertToInteractive(key) {\n",
              "          const element = document.querySelector('#df-213b96ba-fde8-4534-b08c-f72cae7f9572');\n",
              "          const dataTable =\n",
              "            await google.colab.kernel.invokeFunction('convertToInteractive',\n",
              "                                                     [key], {});\n",
              "          if (!dataTable) return;\n",
              "\n",
              "          const docLinkHtml = 'Like what you see? Visit the ' +\n",
              "            '<a target=\"_blank\" href=https://colab.research.google.com/notebooks/data_table.ipynb>data table notebook</a>'\n",
              "            + ' to learn more about interactive tables.';\n",
              "          element.innerHTML = '';\n",
              "          dataTable['output_type'] = 'display_data';\n",
              "          await google.colab.output.renderOutput(dataTable, element);\n",
              "          const docLink = document.createElement('div');\n",
              "          docLink.innerHTML = docLinkHtml;\n",
              "          element.appendChild(docLink);\n",
              "        }\n",
              "      </script>\n",
              "    </div>\n",
              "  </div>\n",
              "  "
            ]
          },
          "metadata": {},
          "execution_count": 201
        }
      ],
      "source": [
        "dataframe = pd.read_csv(\"/content/drive/MyDrive/Colab Notebooks/Bangla_Sentiment_Analysis/dataframe_main.csv\")\n",
        "dataframe.head()"
      ]
    },
    {
      "cell_type": "markdown",
      "metadata": {
        "id": "i9ulxeFMQA0V"
      },
      "source": [
        "# Analyzing dataset"
      ]
    },
    {
      "cell_type": "code",
      "execution_count": 202,
      "metadata": {
        "id": "u9Smfsf4RnhC"
      },
      "outputs": [],
      "source": [
        "import numpy as np\n",
        "import matplotlib.pyplot as plt\n",
        "\n",
        "def draw_bar_graph(values, freq, color, x_label, y_label, title):\n",
        "  fig = plt.figure(figsize = (10, 5))\n",
        "\n",
        "  # creating the bar plot\n",
        "  plt.bar(values, freq, color =color, width = 0.4)\n",
        " \n",
        "  plt.xlabel(x_label)\n",
        "  plt.ylabel(y_label)\n",
        "  plt.title(title)\n",
        "  plt.show()"
      ]
    },
    {
      "cell_type": "code",
      "execution_count": 203,
      "metadata": {
        "id": "FXhTYGAOO9Ta"
      },
      "outputs": [],
      "source": [
        "def analyze_dataset(df, target):\n",
        "  print(f'Shape: {df.shape}')\n",
        "  print(\"\")\n",
        "\n",
        "  target_info = df[target].value_counts()\n",
        "  print(f'Target class info:\\n{target_info}')\n",
        "  print(\"\")\n",
        "\n",
        "  data = target_info.to_dict()\n",
        "\n",
        "  class_values = list(data.keys())\n",
        "  class_value_freq = list(data.values())\n",
        "\n",
        "  draw_bar_graph(class_values, class_value_freq, 'blue', 'sentiment type', 'frequency', 'target analysis')\n",
        "  "
      ]
    },
    {
      "cell_type": "code",
      "execution_count": 204,
      "metadata": {
        "colab": {
          "base_uri": "https://localhost:8080/",
          "height": 524
        },
        "id": "ET9ggah0ROLM",
        "outputId": "5a88f24d-e963-467d-f667-85c10b1c3a14"
      },
      "outputs": [
        {
          "output_type": "stream",
          "name": "stdout",
          "text": [
            "Shape: (1779, 4)\n",
            "\n",
            "Target class info:\n",
            "Negative         524\n",
            "Very Negative    393\n",
            "Neutral          304\n",
            "Very Positive    286\n",
            "Positive         272\n",
            "Name: Tag, dtype: int64\n",
            "\n"
          ]
        },
        {
          "output_type": "display_data",
          "data": {
            "text/plain": [
              "<Figure size 720x360 with 1 Axes>"
            ],
            "image/png": "[encoded data removed]"
          },
          "metadata": {
            "needs_background": "light"
          }
        }
      ],
      "source": [
        "analyze_dataset(dataframe, 'Tag')"
      ]
    },
    {
      "cell_type": "markdown",
      "metadata": {
        "id": "D2R6x_o1LhYm"
      },
      "source": [
        "**?? Looks a bit imbalanced. Balancing could be done based on accuracy scores** "
      ]
    },
    {
      "cell_type": "markdown",
      "metadata": {
        "id": "FaslHkSnTGd9"
      },
      "source": [
        "# Dividing main dataset into smaller parts"
      ]
    },
    {
      "cell_type": "code",
      "execution_count": null,
      "metadata": {
        "colab": {
          "base_uri": "https://localhost:8080/"
        },
        "id": "u6kwa3Y3TIm4",
        "outputId": "2f6eddd7-6e86-444e-81ee-868c00216454"
      },
      "outputs": [
        {
          "name": "stdout",
          "output_type": "stream",
          "text": [
            "part 0: sub dataset size: (118, 4)\n",
            "part 0: remaining dataset size: (1661, 4)\n",
            "\n",
            "part 1: sub dataset size: (118, 4)\n",
            "part 1: remaining dataset size: (1543, 4)\n",
            "\n",
            "part 2: sub dataset size: (118, 4)\n",
            "part 2: remaining dataset size: (1425, 4)\n",
            "\n",
            "part 3: sub dataset size: (118, 4)\n",
            "part 3: remaining dataset size: (1307, 4)\n",
            "\n",
            "part 4: sub dataset size: (118, 4)\n",
            "part 4: remaining dataset size: (1189, 4)\n",
            "\n",
            "part 5: sub dataset size: (118, 4)\n",
            "part 5: remaining dataset size: (1071, 4)\n",
            "\n",
            "part 6: sub dataset size: (118, 4)\n",
            "part 6: remaining dataset size: (953, 4)\n",
            "\n",
            "part 7: sub dataset size: (118, 4)\n",
            "part 7: remaining dataset size: (835, 4)\n",
            "\n",
            "part 8: sub dataset size: (118, 4)\n",
            "part 8: remaining dataset size: (717, 4)\n",
            "\n",
            "part 9: sub dataset size: (118, 4)\n",
            "part 9: remaining dataset size: (599, 4)\n",
            "\n",
            "part 10: sub dataset size: (118, 4)\n",
            "part 10: remaining dataset size: (481, 4)\n",
            "\n",
            "part 11: sub dataset size: (118, 4)\n",
            "part 11: remaining dataset size: (363, 4)\n",
            "\n",
            "part 12: sub dataset size: (118, 4)\n",
            "part 12: remaining dataset size: (245, 4)\n",
            "\n",
            "part 13: sub dataset size: (118, 4)\n",
            "part 13: remaining dataset size: (127, 4)\n",
            "\n",
            "part 14: sub dataset size: (118, 4)\n",
            "part 14: remaining dataset size: (9, 4)\n",
            "\n"
          ]
        }
      ],
      "source": [
        "sub_dataframe = dataframe.iloc[0:118, :]\n",
        "reserved_portion = dataframe.drop(dataframe.index[0:118])\n",
        "\n",
        "for i in range(15):\n",
        "  \n",
        "  path = '/content/drive/MyDrive/Colab Notebooks/Bangla_Sentiment_Analysis/sub_dataset_' + str(i) + '.csv'\n",
        "\n",
        "  with open(path, 'w', encoding = 'utf-8-sig') as f:\n",
        "    sub_dataframe.to_csv(f)\n",
        "\n",
        "  print(f'part {i}: sub dataset size: {sub_dataframe.shape}')\n",
        "  print(f'part {i}: remaining dataset size: {reserved_portion.shape}')\n",
        "  print(\"\")\n",
        "\n",
        "  sub_dataframe = reserved_portion.iloc[0:118, :] \n",
        "  reserved_portion.drop(reserved_portion.index[0:118], inplace=True)\n",
        "  \n",
        "\n",
        "path = '/content/drive/MyDrive/Colab Notebooks/Bangla_Sentiment_Analysis/sub_dataset_15.csv'\n",
        "with open(path, 'w', encoding = 'utf-8-sig') as f:\n",
        "  sub_dataframe.to_csv(f)"
      ]
    },
    {
      "cell_type": "markdown",
      "metadata": {
        "id": "gQPwxtyql4Yo"
      },
      "source": [
        "# Basic preprocessing"
      ]
    },
    {
      "cell_type": "code",
      "execution_count": 205,
      "metadata": {
        "id": "5F4PCgqqqBpf",
        "colab": {
          "base_uri": "https://localhost:8080/"
        },
        "outputId": "0e6ce6b4-a337-4cfd-f09c-ca68cfddf201"
      },
      "outputs": [
        {
          "output_type": "stream",
          "name": "stdout",
          "text": [
            "Looking in indexes: https://pypi.org/simple, https://us-python.pkg.dev/colab-wheels/public/simple/\n",
            "Requirement already satisfied: bltk in /usr/local/lib/python3.7/dist-packages (1.2)\n",
            "Requirement already satisfied: sklearn>=0.0 in /usr/local/lib/python3.7/dist-packages (from bltk) (0.0)\n",
            "Requirement already satisfied: joblib>=0.14.1 in /usr/local/lib/python3.7/dist-packages (from bltk) (1.1.0)\n",
            "Requirement already satisfied: certifi>=2019.11.28 in /usr/local/lib/python3.7/dist-packages (from bltk) (2022.5.18.1)\n",
            "Requirement already satisfied: scikit-learn>=0.21.3 in /usr/local/lib/python3.7/dist-packages (from bltk) (1.0.2)\n",
            "Requirement already satisfied: numpy>=1.18.1 in /usr/local/lib/python3.7/dist-packages (from bltk) (1.21.6)\n",
            "Requirement already satisfied: six>=1.13.0 in /usr/local/lib/python3.7/dist-packages (from bltk) (1.15.0)\n",
            "Requirement already satisfied: scipy>=1.4.1 in /usr/local/lib/python3.7/dist-packages (from bltk) (1.4.1)\n",
            "Requirement already satisfied: nltk>=3.4.5 in /usr/local/lib/python3.7/dist-packages (from bltk) (3.7)\n",
            "Requirement already satisfied: tqdm in /usr/local/lib/python3.7/dist-packages (from nltk>=3.4.5->bltk) (4.64.0)\n",
            "Requirement already satisfied: click in /usr/local/lib/python3.7/dist-packages (from nltk>=3.4.5->bltk) (7.1.2)\n",
            "Requirement already satisfied: regex>=2021.8.3 in /usr/local/lib/python3.7/dist-packages (from nltk>=3.4.5->bltk) (2022.4.24)\n",
            "Requirement already satisfied: threadpoolctl>=2.0.0 in /usr/local/lib/python3.7/dist-packages (from scikit-learn>=0.21.3->bltk) (3.1.0)\n"
          ]
        }
      ],
      "source": [
        "pip install bltk"
      ]
    },
    {
      "cell_type": "code",
      "execution_count": 206,
      "metadata": {
        "id": "oB11YeamqolL",
        "colab": {
          "base_uri": "https://localhost:8080/"
        },
        "outputId": "9d693ebd-bd0a-479f-cbce-18366c4fc4f0"
      },
      "outputs": [
        {
          "output_type": "stream",
          "name": "stdout",
          "text": [
            "Looking in indexes: https://pypi.org/simple, https://us-python.pkg.dev/colab-wheels/public/simple/\n",
            "Collecting git+https://github.com/banglakit/bengali-stemmer.git\n",
            "  Cloning https://github.com/banglakit/bengali-stemmer.git to /tmp/pip-req-build-jhe27yxy\n",
            "  Running command git clone -q https://github.com/banglakit/bengali-stemmer.git /tmp/pip-req-build-jhe27yxy\n"
          ]
        }
      ],
      "source": [
        "!pip install git+https://github.com/banglakit/bengali-stemmer.git"
      ]
    },
    {
      "cell_type": "code",
      "execution_count": 207,
      "metadata": {
        "id": "3YASfYOfrXzH",
        "colab": {
          "base_uri": "https://localhost:8080/"
        },
        "outputId": "c936845c-23a2-4617-cddd-41d23c392d17"
      },
      "outputs": [
        {
          "output_type": "stream",
          "name": "stdout",
          "text": [
            "Looking in indexes: https://pypi.org/simple, https://us-python.pkg.dev/colab-wheels/public/simple/\n",
            "Requirement already satisfied: emoji in /usr/local/lib/python3.7/dist-packages (1.7.0)\n"
          ]
        }
      ],
      "source": [
        "pip install emoji"
      ]
    },
    {
      "cell_type": "code",
      "execution_count": 208,
      "metadata": {
        "id": "yJ10LfHLGz9d"
      },
      "outputs": [],
      "source": [
        "!cp -r /content/drive/MyDrive/Colab\\ Notebooks/Bangla_Sentiment_Analysis/bn_nlp /content"
      ]
    },
    {
      "cell_type": "code",
      "execution_count": 209,
      "metadata": {
        "id": "zM0UiqKCl7rw"
      },
      "outputs": [],
      "source": [
        "from emoji import demojize\n",
        "import re\n",
        "import string\n",
        "from bltk.langtools.banglachars import (operators, punctuations, others, digits)\n",
        "\n",
        "from bn_nlp.Stemmer import stemmerOP\n",
        "from bengali_stemmer.rafikamal2014 import RafiStemmer\n",
        "\n",
        "from bn_nlp.preprocessing import ban_processing\n",
        "\n",
        "def process_text(txt):\n",
        "  # converting emojis to text\n",
        "  # words are separated by UNDERSCORE '_'\n",
        "  txt = demojize(txt, delimiters=(\" \", \" \"))\n",
        "\n",
        "  # removing url from text\n",
        "  url_regex = r\"(?i)\\b((?:https?://|www\\d{0,3}[.]|[a-z0-9.\\-]+[.][a-z]{2,4}/)(?:[^\\s()<>]+|\\(([^\\s()<>]+|(\\([^\\s()<>]+\\)))*\\))+(?:\\(([^\\s()<>]+|(\\([^\\s()<>]+\\)))*\\)|[^\\s`!()\\[\\]{};:'\\\".,<>?«»“”‘’]))\"\n",
        "  txt = re.sub(url_regex, '', txt)\n",
        "\n",
        "  # removing english special characters expect '_'\n",
        "  string.punctuation = string.punctuation.replace('_', '')\n",
        "  txt = txt.translate(str.maketrans('', '', string.punctuation))\n",
        "\n",
        "  # removing bengali special characters\n",
        "  bangla_special_characters = '\"‘`'\n",
        "\n",
        "  for x in operators:\n",
        "    bangla_special_characters += x\n",
        "\n",
        "  for x in punctuations:\n",
        "    if x == '_':\n",
        "      continue\n",
        "    bangla_special_characters += x\n",
        "\n",
        "  for x in others:\n",
        "    if x == '্':\n",
        "      continue\n",
        "    bangla_special_characters += x\n",
        "\n",
        "  # print(f\"Bangla special characters: {bangla_special_characters}\")\n",
        "  # print(\"\")\n",
        "\n",
        "  txt = txt.translate(str.maketrans('', '', bangla_special_characters))\n",
        "\n",
        "  # removing english numeric characters\n",
        "  remove_digits = str.maketrans('', '', string.digits)\n",
        "  txt = txt.translate(remove_digits)\n",
        "\n",
        "  # removing bangla numeric characters\n",
        "  bangla_digits = \"\"\n",
        "  for x in digits:\n",
        "      bangla_digits += x\n",
        "\n",
        "  remove_bangla_digits = str.maketrans('', '', bangla_digits)\n",
        "  txt = txt.translate(remove_bangla_digits)\n",
        "\n",
        "  # changing the case of english words\n",
        "  txt = txt.lower()\n",
        "\n",
        "  # removing extra SPACES in the text\n",
        "  txt = re.sub(' +', ' ', txt).strip()\n",
        "\n",
        "  # stemming bangla words\n",
        "  stemmer = RafiStemmer()\n",
        "  txt = stemmer.stem_word(txt)\n",
        "  \n",
        "  stemmer = stemmerOP()\n",
        "  txt = stemmer.stem(txt)\n",
        "\n",
        "  # normalizing bangla words and removing bangla stopwords from the comment\n",
        "  bp = ban_processing()\n",
        "  \n",
        "  # normalization: অসহনীয় ভারী বর্ষণে to অসহনিয় ভারি বর্ষনে\n",
        "  txt = bp.word_normalize(txt)\n",
        "  txt = bp.stop_word_remove(txt)\n",
        "\n",
        "  return txt\n"
      ]
    },
    {
      "cell_type": "code",
      "execution_count": 210,
      "metadata": {
        "colab": {
          "base_uri": "https://localhost:8080/"
        },
        "id": "6XsH06pwsSdj",
        "outputId": "95b8a887-47d9-43dc-810a-420dcf86960a"
      },
      "outputs": [
        {
          "output_type": "stream",
          "name": "stdout",
          "text": [
            "actual text: \"এই খবর এ আমাগো কি? 🤬🤬 https://machinelearningmastery.com/clean-text-machine-learning-python/\"\n",
            "processed text: খবর আমাগো face_with_symbols_on_mouth face_with_symbols_on_mouth\n",
            "\n",
            "actual text: লিখার সময় পারলে `সত্য` yOu piece of !@##$ik লিখার অভ্যাস শিখুন।\n",
            "processed text: লিখার সময় পারলে সত্য you piece of ik লিখার অভ্যাস শিখুন\n",
            "\n",
            "actual text: এরা যেখানেই (YA'LL should go to HElL...), dogs! যাবে সেখানেই চুরি হবে।\n",
            "processed text: যেখানেই yall should go to hell dogs সেখানেই চুরি হব\n",
            "\n",
            "actual text:   নড়াচড়া নাকি   ডানবাম?203\n",
            "processed text: নড়াচড়া ডানবাম\n",
            "\n",
            "actual text: '২০০৩/৪/৫এর দিকে মিনিকেট কিনতাম ২০/২২ টাকায় তখন আমার বেতন ছিল ৭০০০টাকা।' এখন পাই ৬০,০০০টাকা কিন্তু চাল কিনি ৫০/৫৫টাকার ভেতর!\n",
            "processed text: মিনিকেট কিনতাম টাকায় বেতন টাকা পাই টাকা চাল কিনি টাকার ভেতর\n",
            "\n",
            "actual text: যে দেশে ১৬ ই  ডিসেম্বর তারিখেও ডিউটি করতে হয় , সেখানে এমন হওয়া খারাপ কিছু না ।\n",
            "processed text: দেশে ডিসেম্বর তারিখেও ডিউটি হওয়া খারাপ\n",
            "\n",
            "actual text: সড়কের ভোগান্তিতে    পড়েন  নগরবাসী\n",
            "processed text: সড়কের ভোগান্তিতে পড়েন নগরবাসি\n",
            "\n",
            "actual text: অসহনীয় ভারী বর্ষণে\n",
            "processed text: অসহনিয় ভারি বর্ষন\n",
            "\n",
            "actual text: করিম কাজটি করছে\n",
            "processed text: করিম কাজটি কর\n",
            "\n",
            "actual text: সড়কের12A'--,.:Bকারণে\n",
            "processed text: সড়কেরabকারন\n",
            "\n"
          ]
        }
      ],
      "source": [
        "text = '\"এই খবর এ আমাগো কি? 🤬🤬 https://machinelearningmastery.com/clean-text-machine-learning-python/\"'\n",
        "print(f'actual text: {text}')\n",
        "text = process_text(text)\n",
        "print(f'processed text: {text}')\n",
        "print(\"\")\n",
        "\n",
        "text = \"লিখার সময় পারলে `সত্য` yOu piece of !@##$ik লিখার অভ্যাস শিখুন।\"\n",
        "print(f'actual text: {text}')\n",
        "text = process_text(text)\n",
        "print(f'processed text: {text}')\n",
        "print(\"\")\n",
        "\n",
        "text = \"এরা যেখানেই (YA'LL should go to HElL...), dogs! যাবে সেখানেই চুরি হবে।\"\n",
        "print(f'actual text: {text}')\n",
        "text = process_text(text)\n",
        "print(f'processed text: {text}')\n",
        "print(\"\")\n",
        "\n",
        "text = \"  নড়াচড়া নাকি   ডানবাম?203\"\n",
        "print(f'actual text: {text}')\n",
        "text = process_text(text)\n",
        "print(f'processed text: {text}')\n",
        "print(\"\")\n",
        "\n",
        "text = \"'২০০৩/৪/৫এর দিকে মিনিকেট কিনতাম ২০/২২ টাকায় তখন আমার বেতন ছিল ৭০০০টাকা।' এখন পাই ৬০,০০০টাকা কিন্তু চাল কিনি ৫০/৫৫টাকার ভেতর!\"\n",
        "print(f'actual text: {text}')\n",
        "text = process_text(text)\n",
        "print(f'processed text: {text}')\n",
        "print(\"\")\n",
        "\n",
        "text = \"যে দেশে ১৬ ই  ডিসেম্বর তারিখেও ডিউটি করতে হয় , সেখানে এমন হওয়া খারাপ কিছু না ।\"\n",
        "print(f'actual text: {text}')\n",
        "text = process_text(text)\n",
        "print(f'processed text: {text}')\n",
        "print(\"\")\n",
        "\n",
        "text = \"সড়কের ভোগান্তিতে    পড়েন  নগরবাসী\"\n",
        "print(f'actual text: {text}')\n",
        "text = process_text(text)\n",
        "print(f'processed text: {text}')\n",
        "print(\"\")\n",
        "\n",
        "text = \"অসহনীয় ভারী বর্ষণে\"\n",
        "print(f'actual text: {text}')\n",
        "text = process_text(text)\n",
        "print(f'processed text: {text}')\n",
        "print(\"\")\n",
        "\n",
        "text = \"করিম কাজটি করছে\"\n",
        "print(f'actual text: {text}')\n",
        "text = process_text(text)\n",
        "print(f'processed text: {text}')\n",
        "print(\"\")\n",
        "\n",
        "text = \"সড়কের12A'--,.:Bকারণে\"\n",
        "print(f'actual text: {text}')\n",
        "text = process_text(text)\n",
        "print(f'processed text: {text}')\n",
        "print(\"\")\n"
      ]
    },
    {
      "cell_type": "code",
      "execution_count": 211,
      "metadata": {
        "id": "1fjp8yuTzCkH"
      },
      "outputs": [],
      "source": [
        "def process_feature(df, feat):\n",
        "\n",
        "  for index, row in df.iterrows():\n",
        "    text = row[feat]\n",
        "    processed_text = process_text(text)\n",
        "\n",
        "    df.at[index, \"Comment\"] = processed_text\n",
        "\n",
        "  return df"
      ]
    },
    {
      "cell_type": "markdown",
      "metadata": {
        "id": "tOdsdGZ6Pyus"
      },
      "source": [
        "# Skip it - Generating processed sub datasets \n",
        "\n"
      ]
    },
    {
      "cell_type": "markdown",
      "metadata": {
        "id": "K46QP1ItRn_j"
      },
      "source": [
        "00."
      ]
    },
    {
      "cell_type": "code",
      "execution_count": null,
      "metadata": {
        "id": "FHQkC3wEP91Y"
      },
      "outputs": [],
      "source": [
        "sub_dataframe = pd.read_csv(\"/content/drive/MyDrive/Colab Notebooks/Bangla_Sentiment_Analysis/sub_dataset_0.csv\")\n",
        "processed_dataframe = process_feature(sub_dataframe, 'Comment')\n",
        "\n",
        "path = '/content/drive/MyDrive/Colab Notebooks/Bangla_Sentiment_Analysis/processed_dataset_0.csv'\n",
        "\n",
        "with open(path, 'w', encoding = 'utf-8-sig') as f:\n",
        "  processed_dataframe.to_csv(f)\n"
      ]
    },
    {
      "cell_type": "markdown",
      "metadata": {
        "id": "PjROYsTnUImX"
      },
      "source": [
        "01."
      ]
    },
    {
      "cell_type": "code",
      "execution_count": null,
      "metadata": {
        "id": "d4dlcAyoUImX"
      },
      "outputs": [],
      "source": [
        "sub_dataframe = pd.read_csv(\"/content/drive/MyDrive/Colab Notebooks/Bangla_Sentiment_Analysis/sub_dataset_1.csv\")\n",
        "processed_dataframe = process_feature(sub_dataframe, 'Comment')\n",
        "\n",
        "path = '/content/drive/MyDrive/Colab Notebooks/Bangla_Sentiment_Analysis/processed_dataset_1.csv'\n",
        "\n",
        "with open(path, 'w', encoding = 'utf-8-sig') as f:\n",
        "  processed_dataframe.to_csv(f)\n"
      ]
    },
    {
      "cell_type": "markdown",
      "metadata": {
        "id": "EHRP8pcjUGba"
      },
      "source": [
        "02."
      ]
    },
    {
      "cell_type": "code",
      "execution_count": null,
      "metadata": {
        "id": "ZYpQy55cUGba"
      },
      "outputs": [],
      "source": [
        "sub_dataframe = pd.read_csv(\"/content/drive/MyDrive/Colab Notebooks/Bangla_Sentiment_Analysis/sub_dataset_2.csv\")\n",
        "processed_dataframe = process_feature(sub_dataframe, 'Comment')\n",
        "\n",
        "path = '/content/drive/MyDrive/Colab Notebooks/Bangla_Sentiment_Analysis/processed_dataset_2.csv'\n",
        "\n",
        "with open(path, 'w', encoding = 'utf-8-sig') as f:\n",
        "  processed_dataframe.to_csv(f)\n"
      ]
    },
    {
      "cell_type": "markdown",
      "metadata": {
        "id": "igX1diYxUF_M"
      },
      "source": [
        "03."
      ]
    },
    {
      "cell_type": "code",
      "execution_count": null,
      "metadata": {
        "id": "iPj4sbohUF_M"
      },
      "outputs": [],
      "source": [
        "sub_dataframe = pd.read_csv(\"/content/drive/MyDrive/Colab Notebooks/Bangla_Sentiment_Analysis/sub_dataset_3.csv\")\n",
        "processed_dataframe = process_feature(sub_dataframe, 'Comment')\n",
        "\n",
        "path = '/content/drive/MyDrive/Colab Notebooks/Bangla_Sentiment_Analysis/processed_dataset_3.csv'\n",
        "\n",
        "with open(path, 'w', encoding = 'utf-8-sig') as f:\n",
        "  processed_dataframe.to_csv(f)\n"
      ]
    },
    {
      "cell_type": "markdown",
      "metadata": {
        "id": "GlN7AzBHUFiw"
      },
      "source": [
        "04."
      ]
    },
    {
      "cell_type": "code",
      "execution_count": null,
      "metadata": {
        "id": "kfW820CnUFiw"
      },
      "outputs": [],
      "source": [
        "sub_dataframe = pd.read_csv(\"/content/drive/MyDrive/Colab Notebooks/Bangla_Sentiment_Analysis/sub_dataset_4.csv\")\n",
        "processed_dataframe = process_feature(sub_dataframe, 'Comment')\n",
        "\n",
        "path = '/content/drive/MyDrive/Colab Notebooks/Bangla_Sentiment_Analysis/processed_dataset_4.csv'\n",
        "\n",
        "with open(path, 'w', encoding = 'utf-8-sig') as f:\n",
        "  processed_dataframe.to_csv(f)\n"
      ]
    },
    {
      "cell_type": "markdown",
      "metadata": {
        "id": "rsXevZEXUFGg"
      },
      "source": [
        "05."
      ]
    },
    {
      "cell_type": "code",
      "execution_count": null,
      "metadata": {
        "id": "CQXeVWdPUFGg"
      },
      "outputs": [],
      "source": [
        "sub_dataframe = pd.read_csv(\"/content/drive/MyDrive/Colab Notebooks/Bangla_Sentiment_Analysis/sub_dataset_5.csv\")\n",
        "processed_dataframe = process_feature(sub_dataframe, 'Comment')\n",
        "\n",
        "path = '/content/drive/MyDrive/Colab Notebooks/Bangla_Sentiment_Analysis/processed_dataset_5.csv'\n",
        "\n",
        "with open(path, 'w', encoding = 'utf-8-sig') as f:\n",
        "  processed_dataframe.to_csv(f)\n"
      ]
    },
    {
      "cell_type": "markdown",
      "metadata": {
        "id": "aa-oDBzHUEHW"
      },
      "source": [
        "06."
      ]
    },
    {
      "cell_type": "code",
      "execution_count": null,
      "metadata": {
        "id": "IZsTGY6KUEHX"
      },
      "outputs": [],
      "source": [
        "sub_dataframe = pd.read_csv(\"/content/drive/MyDrive/Colab Notebooks/Bangla_Sentiment_Analysis/sub_dataset_6.csv\")\n",
        "processed_dataframe = process_feature(sub_dataframe, 'Comment')\n",
        "\n",
        "path = '/content/drive/MyDrive/Colab Notebooks/Bangla_Sentiment_Analysis/processed_dataset_6.csv'\n",
        "\n",
        "with open(path, 'w', encoding = 'utf-8-sig') as f:\n",
        "  processed_dataframe.to_csv(f)\n"
      ]
    },
    {
      "cell_type": "markdown",
      "metadata": {
        "id": "pTqo2e-BUDYB"
      },
      "source": [
        "07."
      ]
    },
    {
      "cell_type": "code",
      "execution_count": null,
      "metadata": {
        "id": "DEGeb0PJUDYC"
      },
      "outputs": [],
      "source": [
        "sub_dataframe = pd.read_csv(\"/content/drive/MyDrive/Colab Notebooks/Bangla_Sentiment_Analysis/sub_dataset_7.csv\")\n",
        "processed_dataframe = process_feature(sub_dataframe, 'Comment')\n",
        "\n",
        "path = '/content/drive/MyDrive/Colab Notebooks/Bangla_Sentiment_Analysis/processed_dataset_7.csv'\n",
        "\n",
        "with open(path, 'w', encoding = 'utf-8-sig') as f:\n",
        "  processed_dataframe.to_csv(f)\n"
      ]
    },
    {
      "cell_type": "markdown",
      "metadata": {
        "id": "h3vkywbCU4UQ"
      },
      "source": [
        "08."
      ]
    },
    {
      "cell_type": "code",
      "execution_count": null,
      "metadata": {
        "id": "IUKtQj9cU4UQ"
      },
      "outputs": [],
      "source": [
        "sub_dataframe = pd.read_csv(\"/content/drive/MyDrive/Colab Notebooks/Bangla_Sentiment_Analysis/sub_dataset_8.csv\")\n",
        "processed_dataframe = process_feature(sub_dataframe, 'Comment')\n",
        "\n",
        "path = '/content/drive/MyDrive/Colab Notebooks/Bangla_Sentiment_Analysis/processed_dataset_8.csv'\n",
        "\n",
        "with open(path, 'w', encoding = 'utf-8-sig') as f:\n",
        "  processed_dataframe.to_csv(f)\n"
      ]
    },
    {
      "cell_type": "markdown",
      "metadata": {
        "id": "I0zqk_3lU4UQ"
      },
      "source": [
        "09."
      ]
    },
    {
      "cell_type": "code",
      "execution_count": null,
      "metadata": {
        "id": "zPzbckd1U4UQ"
      },
      "outputs": [],
      "source": [
        "sub_dataframe = pd.read_csv(\"/content/drive/MyDrive/Colab Notebooks/Bangla_Sentiment_Analysis/sub_dataset_9.csv\")\n",
        "processed_dataframe = process_feature(sub_dataframe, 'Comment')\n",
        "\n",
        "path = '/content/drive/MyDrive/Colab Notebooks/Bangla_Sentiment_Analysis/processed_dataset_9.csv'\n",
        "\n",
        "with open(path, 'w', encoding = 'utf-8-sig') as f:\n",
        "  processed_dataframe.to_csv(f)\n"
      ]
    },
    {
      "cell_type": "markdown",
      "metadata": {
        "id": "5PMzDfNnU4UR"
      },
      "source": [
        "10."
      ]
    },
    {
      "cell_type": "code",
      "execution_count": null,
      "metadata": {
        "id": "zBr9YmnOU4UR"
      },
      "outputs": [],
      "source": [
        "sub_dataframe = pd.read_csv(\"/content/drive/MyDrive/Colab Notebooks/Bangla_Sentiment_Analysis/sub_dataset_10.csv\")\n",
        "processed_dataframe = process_feature(sub_dataframe, 'Comment')\n",
        "\n",
        "path = '/content/drive/MyDrive/Colab Notebooks/Bangla_Sentiment_Analysis/processed_dataset_10.csv'\n",
        "\n",
        "with open(path, 'w', encoding = 'utf-8-sig') as f:\n",
        "  processed_dataframe.to_csv(f)\n"
      ]
    },
    {
      "cell_type": "markdown",
      "metadata": {
        "id": "7ex8pcE4U4UR"
      },
      "source": [
        "11."
      ]
    },
    {
      "cell_type": "code",
      "execution_count": null,
      "metadata": {
        "id": "_vVeiFbyU4UR"
      },
      "outputs": [],
      "source": [
        "sub_dataframe = pd.read_csv(\"/content/drive/MyDrive/Colab Notebooks/Bangla_Sentiment_Analysis/sub_dataset_11.csv\")\n",
        "processed_dataframe = process_feature(sub_dataframe, 'Comment')\n",
        "\n",
        "path = '/content/drive/MyDrive/Colab Notebooks/Bangla_Sentiment_Analysis/processed_dataset_11.csv'\n",
        "\n",
        "with open(path, 'w', encoding = 'utf-8-sig') as f:\n",
        "  processed_dataframe.to_csv(f)\n"
      ]
    },
    {
      "cell_type": "markdown",
      "metadata": {
        "id": "u3Zzf7sFah-6"
      },
      "source": [
        "12."
      ]
    },
    {
      "cell_type": "code",
      "execution_count": null,
      "metadata": {
        "id": "eQc56r4kah-7"
      },
      "outputs": [],
      "source": [
        "sub_dataframe = pd.read_csv(\"/content/drive/MyDrive/Colab Notebooks/Bangla_Sentiment_Analysis/sub_dataset_12.csv\")\n",
        "processed_dataframe = process_feature(sub_dataframe, 'Comment')\n",
        "\n",
        "path = '/content/drive/MyDrive/Colab Notebooks/Bangla_Sentiment_Analysis/processed_dataset_12.csv'\n",
        "\n",
        "with open(path, 'w', encoding = 'utf-8-sig') as f:\n",
        "  processed_dataframe.to_csv(f)\n"
      ]
    },
    {
      "cell_type": "markdown",
      "metadata": {
        "id": "Ib4ZT3xGah-7"
      },
      "source": [
        "13."
      ]
    },
    {
      "cell_type": "code",
      "execution_count": null,
      "metadata": {
        "id": "Bv0bfLYlah-7"
      },
      "outputs": [],
      "source": [
        "sub_dataframe = pd.read_csv(\"/content/drive/MyDrive/Colab Notebooks/Bangla_Sentiment_Analysis/sub_dataset_13.csv\")\n",
        "processed_dataframe = process_feature(sub_dataframe, 'Comment')\n",
        "\n",
        "path = '/content/drive/MyDrive/Colab Notebooks/Bangla_Sentiment_Analysis/processed_dataset_13.csv'\n",
        "\n",
        "with open(path, 'w', encoding = 'utf-8-sig') as f:\n",
        "  processed_dataframe.to_csv(f)\n"
      ]
    },
    {
      "cell_type": "markdown",
      "metadata": {
        "id": "Mpz5D1Z6ah-8"
      },
      "source": [
        "14."
      ]
    },
    {
      "cell_type": "code",
      "execution_count": null,
      "metadata": {
        "id": "QxsGZ1Ceah-8"
      },
      "outputs": [],
      "source": [
        "sub_dataframe = pd.read_csv(\"/content/drive/MyDrive/Colab Notebooks/Bangla_Sentiment_Analysis/sub_dataset_14.csv\")\n",
        "processed_dataframe = process_feature(sub_dataframe, 'Comment')\n",
        "\n",
        "path = '/content/drive/MyDrive/Colab Notebooks/Bangla_Sentiment_Analysis/processed_dataset_14.csv'\n",
        "\n",
        "with open(path, 'w', encoding = 'utf-8-sig') as f:\n",
        "  processed_dataframe.to_csv(f)\n"
      ]
    },
    {
      "cell_type": "markdown",
      "metadata": {
        "id": "B2Nv7JcSA-04"
      },
      "source": [
        "15."
      ]
    },
    {
      "cell_type": "code",
      "execution_count": null,
      "metadata": {
        "id": "RPxUtjF7A-04"
      },
      "outputs": [],
      "source": [
        "sub_dataframe = pd.read_csv(\"/content/drive/MyDrive/Colab Notebooks/Bangla_Sentiment_Analysis/sub_dataset_15.csv\")\n",
        "processed_dataframe = process_feature(sub_dataframe, 'Comment')\n",
        "\n",
        "path = '/content/drive/MyDrive/Colab Notebooks/Bangla_Sentiment_Analysis/processed_dataset_15.csv'\n",
        "\n",
        "with open(path, 'w', encoding = 'utf-8-sig') as f:\n",
        "  processed_dataframe.to_csv(f)\n"
      ]
    },
    {
      "cell_type": "markdown",
      "metadata": {
        "id": "SNDQe3pcVUUs"
      },
      "source": [
        "# Start from here --> Merging all sub dataset into one main dataset"
      ]
    },
    {
      "cell_type": "code",
      "execution_count": 214,
      "metadata": {
        "colab": {
          "base_uri": "https://localhost:8080/"
        },
        "id": "vcLAYKs1WBtG",
        "outputId": "32818f61-49ed-4820-94de-6faee4d687ed"
      },
      "outputs": [
        {
          "output_type": "execute_result",
          "data": {
            "text/plain": [
              "(1770, 3)"
            ]
          },
          "metadata": {},
          "execution_count": 214
        }
      ],
      "source": [
        "dataframes = []\n",
        "for i in range(15):\n",
        "  df = pd.read_csv('/content/drive/MyDrive/Colab Notebooks/Bangla_Sentiment_Analysis/processed_dataset_' + str(i) + '.csv')\n",
        "  dataframes.append(df)\n",
        "\n",
        "dataframe_processed = pd.concat(dataframes)\n",
        "dataframe_processed.drop(dataframe_processed.columns[[1, 2, 5]], axis = 1, inplace = True)\n",
        "dataframe_processed.index = range(dataframe_processed.shape[0])\n",
        "\n",
        "dataframe_processed.shape"
      ]
    },
    {
      "cell_type": "code",
      "execution_count": 215,
      "metadata": {
        "colab": {
          "base_uri": "https://localhost:8080/",
          "height": 0
        },
        "id": "H65VdBVVD2fa",
        "outputId": "19b3dbeb-69b4-4391-bf51-7fe1d759c187"
      },
      "outputs": [
        {
          "output_type": "execute_result",
          "data": {
            "text/plain": [
              "   Unnamed: 0                                            Comment  \\\n",
              "0           0  লিখার সময় পারলে সত্য you piece of it লিখার অভ্...   \n",
              "1           1  সংশ্লিষ্ট সকলের ডিপ্রেশনের সরকার মনোনিত পরিচাল...   \n",
              "2           2  দেশের স্বাভাবিক অর্থনৈতিক গতিপ্রবাহকে বাধাগ্রস...   \n",
              "3           3                                        চুরি লুটপাট   \n",
              "4           4  ইসলামি ব্যাংকের বর্তমান অবস্থা শাসক জামাতের সা...   \n",
              "\n",
              "             Tag  \n",
              "0       Negative  \n",
              "1       Negative  \n",
              "2  Very Negative  \n",
              "3  Very Negative  \n",
              "4        Neutral  "
            ],
            "text/html": [
              "\n",
              "  <div id=\"df-581fcb96-4162-4c5b-9733-22eac8439cd0\">\n",
              "    <div class=\"colab-df-container\">\n",
              "      <div>\n",
              "<style scoped>\n",
              "    .dataframe tbody tr th:only-of-type {\n",
              "        vertical-align: middle;\n",
              "    }\n",
              "\n",
              "    .dataframe tbody tr th {\n",
              "        vertical-align: top;\n",
              "    }\n",
              "\n",
              "    .dataframe thead th {\n",
              "        text-align: right;\n",
              "    }\n",
              "</style>\n",
              "<table border=\"1\" class=\"dataframe\">\n",
              "  <thead>\n",
              "    <tr style=\"text-align: right;\">\n",
              "      <th></th>\n",
              "      <th>Unnamed: 0</th>\n",
              "      <th>Comment</th>\n",
              "      <th>Tag</th>\n",
              "    </tr>\n",
              "  </thead>\n",
              "  <tbody>\n",
              "    <tr>\n",
              "      <th>0</th>\n",
              "      <td>0</td>\n",
              "      <td>লিখার সময় পারলে সত্য you piece of it লিখার অভ্...</td>\n",
              "      <td>Negative</td>\n",
              "    </tr>\n",
              "    <tr>\n",
              "      <th>1</th>\n",
              "      <td>1</td>\n",
              "      <td>সংশ্লিষ্ট সকলের ডিপ্রেশনের সরকার মনোনিত পরিচাল...</td>\n",
              "      <td>Negative</td>\n",
              "    </tr>\n",
              "    <tr>\n",
              "      <th>2</th>\n",
              "      <td>2</td>\n",
              "      <td>দেশের স্বাভাবিক অর্থনৈতিক গতিপ্রবাহকে বাধাগ্রস...</td>\n",
              "      <td>Very Negative</td>\n",
              "    </tr>\n",
              "    <tr>\n",
              "      <th>3</th>\n",
              "      <td>3</td>\n",
              "      <td>চুরি লুটপাট</td>\n",
              "      <td>Very Negative</td>\n",
              "    </tr>\n",
              "    <tr>\n",
              "      <th>4</th>\n",
              "      <td>4</td>\n",
              "      <td>ইসলামি ব্যাংকের বর্তমান অবস্থা শাসক জামাতের সা...</td>\n",
              "      <td>Neutral</td>\n",
              "    </tr>\n",
              "  </tbody>\n",
              "</table>\n",
              "</div>\n",
              "      <button class=\"colab-df-convert\" onclick=\"convertToInteractive('df-581fcb96-4162-4c5b-9733-22eac8439cd0')\"\n",
              "              title=\"Convert this dataframe to an interactive table.\"\n",
              "              style=\"display:none;\">\n",
              "        \n",
              "  <svg xmlns=\"http://www.w3.org/2000/svg\" height=\"24px\"viewBox=\"0 0 24 24\"\n",
              "       width=\"24px\">\n",
              "    <path d=\"M0 0h24v24H0V0z\" fill=\"none\"/>\n",
              "    <path d=\"M18.56 5.44l.94 2.06.94-2.06 2.06-.94-2.06-.94-.94-2.06-.94 2.06-2.06.94zm-11 1L8.5 8.5l.94-2.06 2.06-.94-2.06-.94L8.5 2.5l-.94 2.06-2.06.94zm10 10l.94 2.06.94-2.06 2.06-.94-2.06-.94-.94-2.06-.94 2.06-2.06.94z\"/><path d=\"M17.41 7.96l-1.37-1.37c-.4-.4-.92-.59-1.43-.59-.52 0-1.04.2-1.43.59L10.3 9.45l-7.72 7.72c-.78.78-.78 2.05 0 2.83L4 21.41c.39.39.9.59 1.41.59.51 0 1.02-.2 1.41-.59l7.78-7.78 2.81-2.81c.8-.78.8-2.07 0-2.86zM5.41 20L4 18.59l7.72-7.72 1.47 1.35L5.41 20z\"/>\n",
              "  </svg>\n",
              "      </button>\n",
              "      \n",
              "  <style>\n",
              "    .colab-df-container {\n",
              "      display:flex;\n",
              "      flex-wrap:wrap;\n",
              "      gap: 12px;\n",
              "    }\n",
              "\n",
              "    .colab-df-convert {\n",
              "      background-color: #E8F0FE;\n",
              "      border: none;\n",
              "      border-radius: 50%;\n",
              "      cursor: pointer;\n",
              "      display: none;\n",
              "      fill: #1967D2;\n",
              "      height: 32px;\n",
              "      padding: 0 0 0 0;\n",
              "      width: 32px;\n",
              "    }\n",
              "\n",
              "    .colab-df-convert:hover {\n",
              "      background-color: #E2EBFA;\n",
              "      box-shadow: 0px 1px 2px rgba(60, 64, 67, 0.3), 0px 1px 3px 1px rgba(60, 64, 67, 0.15);\n",
              "      fill: #174EA6;\n",
              "    }\n",
              "\n",
              "    [theme=dark] .colab-df-convert {\n",
              "      background-color: #3B4455;\n",
              "      fill: #D2E3FC;\n",
              "    }\n",
              "\n",
              "    [theme=dark] .colab-df-convert:hover {\n",
              "      background-color: #434B5C;\n",
              "      box-shadow: 0px 1px 3px 1px rgba(0, 0, 0, 0.15);\n",
              "      filter: drop-shadow(0px 1px 2px rgba(0, 0, 0, 0.3));\n",
              "      fill: #FFFFFF;\n",
              "    }\n",
              "  </style>\n",
              "\n",
              "      <script>\n",
              "        const buttonEl =\n",
              "          document.querySelector('#df-581fcb96-4162-4c5b-9733-22eac8439cd0 button.colab-df-convert');\n",
              "        buttonEl.style.display =\n",
              "          google.colab.kernel.accessAllowed ? 'block' : 'none';\n",
              "\n",
              "        async function convertToInteractive(key) {\n",
              "          const element = document.querySelector('#df-581fcb96-4162-4c5b-9733-22eac8439cd0');\n",
              "          const dataTable =\n",
              "            await google.colab.kernel.invokeFunction('convertToInteractive',\n",
              "                                                     [key], {});\n",
              "          if (!dataTable) return;\n",
              "\n",
              "          const docLinkHtml = 'Like what you see? Visit the ' +\n",
              "            '<a target=\"_blank\" href=https://colab.research.google.com/notebooks/data_table.ipynb>data table notebook</a>'\n",
              "            + ' to learn more about interactive tables.';\n",
              "          element.innerHTML = '';\n",
              "          dataTable['output_type'] = 'display_data';\n",
              "          await google.colab.output.renderOutput(dataTable, element);\n",
              "          const docLink = document.createElement('div');\n",
              "          docLink.innerHTML = docLinkHtml;\n",
              "          element.appendChild(docLink);\n",
              "        }\n",
              "      </script>\n",
              "    </div>\n",
              "  </div>\n",
              "  "
            ]
          },
          "metadata": {},
          "execution_count": 215
        }
      ],
      "source": [
        "dataframe_processed.head()"
      ]
    },
    {
      "cell_type": "markdown",
      "metadata": {
        "id": "pMYuLXFYJzPB"
      },
      "source": [
        "# Data cleaning"
      ]
    },
    {
      "cell_type": "code",
      "execution_count": 216,
      "metadata": {
        "id": "DqKYsC6kJ2fM"
      },
      "outputs": [],
      "source": [
        "def clean_dataset(df):\n",
        "  # Removing duplicated comments\n",
        "  total_duplicate_comments = df.duplicated().sum()\n",
        "\n",
        "  if total_duplicate_comments != 0:\n",
        "      # Dropping duplicated entry keeping the first one. (default: keep='first')\n",
        "      df.drop_duplicates(inplace=True)\n",
        "  else:\n",
        "      print(\"no duplicated entry found!\")\n",
        "      pass\n",
        "\n",
        "  # Detecting and removing entries with missing values\n",
        "  total_entries_with_missing_values = df.isnull().any(axis=1).sum()\n",
        "\n",
        "  if total_entries_with_missing_values != 0:\n",
        "      # Dropping the entries with at least missing values\n",
        "      df.dropna(inplace=True)\n",
        "  else:\n",
        "      print(\"no entry with missing value found!\")\n",
        "      pass\n",
        "\n",
        "  return df"
      ]
    },
    {
      "cell_type": "code",
      "execution_count": 217,
      "metadata": {
        "colab": {
          "base_uri": "https://localhost:8080/"
        },
        "id": "fOQe3S5tNL2g",
        "outputId": "f08ce99a-3026-4b8b-ee6d-878c946d6971"
      },
      "outputs": [
        {
          "output_type": "stream",
          "name": "stdout",
          "text": [
            "no duplicated entry found!\n",
            "no entry with missing value found!\n"
          ]
        }
      ],
      "source": [
        "dataframe_processed = clean_dataset(dataframe_processed)"
      ]
    },
    {
      "cell_type": "markdown",
      "metadata": {
        "id": "H1eel5TkSCrD"
      },
      "source": [
        "# Target value encoding & decoding\n",
        "\n"
      ]
    },
    {
      "cell_type": "markdown",
      "metadata": {
        "id": "fJGmspSFyzfR"
      },
      "source": [
        "Encode"
      ]
    },
    {
      "cell_type": "code",
      "execution_count": null,
      "metadata": {
        "id": "OEr_LiNRWUaZ"
      },
      "outputs": [],
      "source": [
        "def encode_target_values(df, target):\n",
        "  target_value_encode_dict = {\n",
        "    \"Very Positive\": 2,\n",
        "    \"Positive\": 1,\n",
        "    \"Neutral\": 0,\n",
        "    \"Negative\": -1,\n",
        "    \"Very Negative\": -2\n",
        "  }\n",
        "\n",
        "  for index, row in df.iterrows():     \n",
        "    sentiment = row[target]\n",
        "    df.at[index, target] = target_value_encode_dict[sentiment]\n",
        "\n",
        "  return df"
      ]
    },
    {
      "cell_type": "code",
      "execution_count": null,
      "metadata": {
        "colab": {
          "base_uri": "https://localhost:8080/",
          "height": 363
        },
        "id": "H5rK3zpWlL_V",
        "outputId": "e36c10d1-c3ab-4672-9418-15ab1568ca64"
      },
      "outputs": [
        {
          "data": {
            "text/html": [
              "\n",
              "  <div id=\"df-7746ff7b-9a69-4133-97ed-a678f4e1f01e\">\n",
              "    <div class=\"colab-df-container\">\n",
              "      <div>\n",
              "<style scoped>\n",
              "    .dataframe tbody tr th:only-of-type {\n",
              "        vertical-align: middle;\n",
              "    }\n",
              "\n",
              "    .dataframe tbody tr th {\n",
              "        vertical-align: top;\n",
              "    }\n",
              "\n",
              "    .dataframe thead th {\n",
              "        text-align: right;\n",
              "    }\n",
              "</style>\n",
              "<table border=\"1\" class=\"dataframe\">\n",
              "  <thead>\n",
              "    <tr style=\"text-align: right;\">\n",
              "      <th></th>\n",
              "      <th>Unnamed: 0</th>\n",
              "      <th>Comment</th>\n",
              "      <th>Tag</th>\n",
              "    </tr>\n",
              "  </thead>\n",
              "  <tbody>\n",
              "    <tr>\n",
              "      <th>0</th>\n",
              "      <td>0</td>\n",
              "      <td>লিখার সময় পারলে সত্য you piece of it লিখার অভ্...</td>\n",
              "      <td>-1</td>\n",
              "    </tr>\n",
              "    <tr>\n",
              "      <th>1</th>\n",
              "      <td>1</td>\n",
              "      <td>সংশ্লিষ্ট সকলের ডিপ্রেশনের সরকার মনোনিত পরিচাল...</td>\n",
              "      <td>-1</td>\n",
              "    </tr>\n",
              "    <tr>\n",
              "      <th>2</th>\n",
              "      <td>2</td>\n",
              "      <td>দেশের স্বাভাবিক অর্থনৈতিক গতিপ্রবাহকে বাধাগ্রস...</td>\n",
              "      <td>-2</td>\n",
              "    </tr>\n",
              "    <tr>\n",
              "      <th>3</th>\n",
              "      <td>3</td>\n",
              "      <td>চুরি লুটপাট</td>\n",
              "      <td>-2</td>\n",
              "    </tr>\n",
              "    <tr>\n",
              "      <th>4</th>\n",
              "      <td>4</td>\n",
              "      <td>ইসলামি ব্যাংকের বর্তমান অবস্থা শাসক জামাতের সা...</td>\n",
              "      <td>0</td>\n",
              "    </tr>\n",
              "    <tr>\n",
              "      <th>5</th>\n",
              "      <td>5</td>\n",
              "      <td>একটা ভাল প্রতিষ্ঠান কিভাবে লুট হয়ে যাচেছ angry...</td>\n",
              "      <td>-2</td>\n",
              "    </tr>\n",
              "    <tr>\n",
              "      <th>6</th>\n",
              "      <td>6</td>\n",
              "      <td>সরকার ব্যাংকে নিয়গ দিয়েছে ব্যাংকিং ব জানে face...</td>\n",
              "      <td>-2</td>\n",
              "    </tr>\n",
              "    <tr>\n",
              "      <th>7</th>\n",
              "      <td>7</td>\n",
              "      <td>পুরোপুরি আওয়ামিকরন অসতিতই থাকবেক</td>\n",
              "      <td>-1</td>\n",
              "    </tr>\n",
              "    <tr>\n",
              "      <th>8</th>\n",
              "      <td>8</td>\n",
              "      <td>এককথায় ব্যাংকটিতে ডাকাতি হয়েছে থাকব</td>\n",
              "      <td>-1</td>\n",
              "    </tr>\n",
              "    <tr>\n",
              "      <th>9</th>\n",
              "      <td>9</td>\n",
              "      <td>ইসলামি ব্যাংক প্রারম্ভ গ্রাহকদের পছন্দের ব্যাং...</td>\n",
              "      <td>-1</td>\n",
              "    </tr>\n",
              "  </tbody>\n",
              "</table>\n",
              "</div>\n",
              "      <button class=\"colab-df-convert\" onclick=\"convertToInteractive('df-7746ff7b-9a69-4133-97ed-a678f4e1f01e')\"\n",
              "              title=\"Convert this dataframe to an interactive table.\"\n",
              "              style=\"display:none;\">\n",
              "        \n",
              "  <svg xmlns=\"http://www.w3.org/2000/svg\" height=\"24px\"viewBox=\"0 0 24 24\"\n",
              "       width=\"24px\">\n",
              "    <path d=\"M0 0h24v24H0V0z\" fill=\"none\"/>\n",
              "    <path d=\"M18.56 5.44l.94 2.06.94-2.06 2.06-.94-2.06-.94-.94-2.06-.94 2.06-2.06.94zm-11 1L8.5 8.5l.94-2.06 2.06-.94-2.06-.94L8.5 2.5l-.94 2.06-2.06.94zm10 10l.94 2.06.94-2.06 2.06-.94-2.06-.94-.94-2.06-.94 2.06-2.06.94z\"/><path d=\"M17.41 7.96l-1.37-1.37c-.4-.4-.92-.59-1.43-.59-.52 0-1.04.2-1.43.59L10.3 9.45l-7.72 7.72c-.78.78-.78 2.05 0 2.83L4 21.41c.39.39.9.59 1.41.59.51 0 1.02-.2 1.41-.59l7.78-7.78 2.81-2.81c.8-.78.8-2.07 0-2.86zM5.41 20L4 18.59l7.72-7.72 1.47 1.35L5.41 20z\"/>\n",
              "  </svg>\n",
              "      </button>\n",
              "      \n",
              "  <style>\n",
              "    .colab-df-container {\n",
              "      display:flex;\n",
              "      flex-wrap:wrap;\n",
              "      gap: 12px;\n",
              "    }\n",
              "\n",
              "    .colab-df-convert {\n",
              "      background-color: #E8F0FE;\n",
              "      border: none;\n",
              "      border-radius: 50%;\n",
              "      cursor: pointer;\n",
              "      display: none;\n",
              "      fill: #1967D2;\n",
              "      height: 32px;\n",
              "      padding: 0 0 0 0;\n",
              "      width: 32px;\n",
              "    }\n",
              "\n",
              "    .colab-df-convert:hover {\n",
              "      background-color: #E2EBFA;\n",
              "      box-shadow: 0px 1px 2px rgba(60, 64, 67, 0.3), 0px 1px 3px 1px rgba(60, 64, 67, 0.15);\n",
              "      fill: #174EA6;\n",
              "    }\n",
              "\n",
              "    [theme=dark] .colab-df-convert {\n",
              "      background-color: #3B4455;\n",
              "      fill: #D2E3FC;\n",
              "    }\n",
              "\n",
              "    [theme=dark] .colab-df-convert:hover {\n",
              "      background-color: #434B5C;\n",
              "      box-shadow: 0px 1px 3px 1px rgba(0, 0, 0, 0.15);\n",
              "      filter: drop-shadow(0px 1px 2px rgba(0, 0, 0, 0.3));\n",
              "      fill: #FFFFFF;\n",
              "    }\n",
              "  </style>\n",
              "\n",
              "      <script>\n",
              "        const buttonEl =\n",
              "          document.querySelector('#df-7746ff7b-9a69-4133-97ed-a678f4e1f01e button.colab-df-convert');\n",
              "        buttonEl.style.display =\n",
              "          google.colab.kernel.accessAllowed ? 'block' : 'none';\n",
              "\n",
              "        async function convertToInteractive(key) {\n",
              "          const element = document.querySelector('#df-7746ff7b-9a69-4133-97ed-a678f4e1f01e');\n",
              "          const dataTable =\n",
              "            await google.colab.kernel.invokeFunction('convertToInteractive',\n",
              "                                                     [key], {});\n",
              "          if (!dataTable) return;\n",
              "\n",
              "          const docLinkHtml = 'Like what you see? Visit the ' +\n",
              "            '<a target=\"_blank\" href=https://colab.research.google.com/notebooks/data_table.ipynb>data table notebook</a>'\n",
              "            + ' to learn more about interactive tables.';\n",
              "          element.innerHTML = '';\n",
              "          dataTable['output_type'] = 'display_data';\n",
              "          await google.colab.output.renderOutput(dataTable, element);\n",
              "          const docLink = document.createElement('div');\n",
              "          docLink.innerHTML = docLinkHtml;\n",
              "          element.appendChild(docLink);\n",
              "        }\n",
              "      </script>\n",
              "    </div>\n",
              "  </div>\n",
              "  "
            ],
            "text/plain": [
              "   Unnamed: 0                                            Comment Tag\n",
              "0           0  লিখার সময় পারলে সত্য you piece of it লিখার অভ্...  -1\n",
              "1           1  সংশ্লিষ্ট সকলের ডিপ্রেশনের সরকার মনোনিত পরিচাল...  -1\n",
              "2           2  দেশের স্বাভাবিক অর্থনৈতিক গতিপ্রবাহকে বাধাগ্রস...  -2\n",
              "3           3                                        চুরি লুটপাট  -2\n",
              "4           4  ইসলামি ব্যাংকের বর্তমান অবস্থা শাসক জামাতের সা...   0\n",
              "5           5  একটা ভাল প্রতিষ্ঠান কিভাবে লুট হয়ে যাচেছ angry...  -2\n",
              "6           6  সরকার ব্যাংকে নিয়গ দিয়েছে ব্যাংকিং ব জানে face...  -2\n",
              "7           7                   পুরোপুরি আওয়ামিকরন অসতিতই থাকবেক  -1\n",
              "8           8                এককথায় ব্যাংকটিতে ডাকাতি হয়েছে থাকব  -1\n",
              "9           9  ইসলামি ব্যাংক প্রারম্ভ গ্রাহকদের পছন্দের ব্যাং...  -1"
            ]
          },
          "execution_count": 227,
          "metadata": {},
          "output_type": "execute_result"
        }
      ],
      "source": [
        "dataframe_processed = encode_target_values(dataframe_processed, 'Tag')\n",
        "dataframe_processed.head(10)"
      ]
    },
    {
      "cell_type": "markdown",
      "metadata": {
        "id": "2C1NIZ2ay-x8"
      },
      "source": [
        "Decode"
      ]
    },
    {
      "cell_type": "code",
      "execution_count": null,
      "metadata": {
        "id": "2o0QWEnYzB7-"
      },
      "outputs": [],
      "source": [
        "def decode_target_values(df, target):\n",
        "  target_value_decode_dict = {\n",
        "    2 : \"Very Positive\",\n",
        "    1 : \"Positive\",\n",
        "    0 : \"Neutral\",\n",
        "    -1 : \"Negative\",\n",
        "    -2 : \"Very Negative\"\n",
        "  }\n",
        "  target_value_decode_list = []\n",
        "\n",
        "  for index, row in df.iterrows():     \n",
        "    sentiment = row[target]\n",
        "    df.at[index, target] = target_value_decode_dict[sentiment]\n",
        "\n",
        "  return df"
      ]
    },
    {
      "cell_type": "code",
      "execution_count": null,
      "metadata": {
        "colab": {
          "base_uri": "https://localhost:8080/",
          "height": 363
        },
        "id": "cklfxBD3zF-N",
        "outputId": "9c1276d8-8865-4130-eb82-8e9053b898bf"
      },
      "outputs": [
        {
          "data": {
            "text/html": [
              "\n",
              "  <div id=\"df-f554d7bb-01be-44d6-be2d-589e71c55228\">\n",
              "    <div class=\"colab-df-container\">\n",
              "      <div>\n",
              "<style scoped>\n",
              "    .dataframe tbody tr th:only-of-type {\n",
              "        vertical-align: middle;\n",
              "    }\n",
              "\n",
              "    .dataframe tbody tr th {\n",
              "        vertical-align: top;\n",
              "    }\n",
              "\n",
              "    .dataframe thead th {\n",
              "        text-align: right;\n",
              "    }\n",
              "</style>\n",
              "<table border=\"1\" class=\"dataframe\">\n",
              "  <thead>\n",
              "    <tr style=\"text-align: right;\">\n",
              "      <th></th>\n",
              "      <th>Unnamed: 0</th>\n",
              "      <th>Comment</th>\n",
              "      <th>Tag</th>\n",
              "    </tr>\n",
              "  </thead>\n",
              "  <tbody>\n",
              "    <tr>\n",
              "      <th>0</th>\n",
              "      <td>0</td>\n",
              "      <td>লিখার সময় পারলে সত্য you piece of it লিখার অভ্...</td>\n",
              "      <td>Negative</td>\n",
              "    </tr>\n",
              "    <tr>\n",
              "      <th>1</th>\n",
              "      <td>1</td>\n",
              "      <td>সংশ্লিষ্ট সকলের ডিপ্রেশনের সরকার মনোনিত পরিচাল...</td>\n",
              "      <td>Negative</td>\n",
              "    </tr>\n",
              "    <tr>\n",
              "      <th>2</th>\n",
              "      <td>2</td>\n",
              "      <td>দেশের স্বাভাবিক অর্থনৈতিক গতিপ্রবাহকে বাধাগ্রস...</td>\n",
              "      <td>Very Negative</td>\n",
              "    </tr>\n",
              "    <tr>\n",
              "      <th>3</th>\n",
              "      <td>3</td>\n",
              "      <td>চুরি লুটপাট</td>\n",
              "      <td>Very Negative</td>\n",
              "    </tr>\n",
              "    <tr>\n",
              "      <th>4</th>\n",
              "      <td>4</td>\n",
              "      <td>ইসলামি ব্যাংকের বর্তমান অবস্থা শাসক জামাতের সা...</td>\n",
              "      <td>Neutral</td>\n",
              "    </tr>\n",
              "    <tr>\n",
              "      <th>5</th>\n",
              "      <td>5</td>\n",
              "      <td>একটা ভাল প্রতিষ্ঠান কিভাবে লুট হয়ে যাচেছ angry...</td>\n",
              "      <td>Very Negative</td>\n",
              "    </tr>\n",
              "    <tr>\n",
              "      <th>6</th>\n",
              "      <td>6</td>\n",
              "      <td>সরকার ব্যাংকে নিয়গ দিয়েছে ব্যাংকিং ব জানে face...</td>\n",
              "      <td>Very Negative</td>\n",
              "    </tr>\n",
              "    <tr>\n",
              "      <th>7</th>\n",
              "      <td>7</td>\n",
              "      <td>পুরোপুরি আওয়ামিকরন অসতিতই থাকবেক</td>\n",
              "      <td>Negative</td>\n",
              "    </tr>\n",
              "    <tr>\n",
              "      <th>8</th>\n",
              "      <td>8</td>\n",
              "      <td>এককথায় ব্যাংকটিতে ডাকাতি হয়েছে থাকব</td>\n",
              "      <td>Negative</td>\n",
              "    </tr>\n",
              "    <tr>\n",
              "      <th>9</th>\n",
              "      <td>9</td>\n",
              "      <td>ইসলামি ব্যাংক প্রারম্ভ গ্রাহকদের পছন্দের ব্যাং...</td>\n",
              "      <td>Negative</td>\n",
              "    </tr>\n",
              "  </tbody>\n",
              "</table>\n",
              "</div>\n",
              "      <button class=\"colab-df-convert\" onclick=\"convertToInteractive('df-f554d7bb-01be-44d6-be2d-589e71c55228')\"\n",
              "              title=\"Convert this dataframe to an interactive table.\"\n",
              "              style=\"display:none;\">\n",
              "        \n",
              "  <svg xmlns=\"http://www.w3.org/2000/svg\" height=\"24px\"viewBox=\"0 0 24 24\"\n",
              "       width=\"24px\">\n",
              "    <path d=\"M0 0h24v24H0V0z\" fill=\"none\"/>\n",
              "    <path d=\"M18.56 5.44l.94 2.06.94-2.06 2.06-.94-2.06-.94-.94-2.06-.94 2.06-2.06.94zm-11 1L8.5 8.5l.94-2.06 2.06-.94-2.06-.94L8.5 2.5l-.94 2.06-2.06.94zm10 10l.94 2.06.94-2.06 2.06-.94-2.06-.94-.94-2.06-.94 2.06-2.06.94z\"/><path d=\"M17.41 7.96l-1.37-1.37c-.4-.4-.92-.59-1.43-.59-.52 0-1.04.2-1.43.59L10.3 9.45l-7.72 7.72c-.78.78-.78 2.05 0 2.83L4 21.41c.39.39.9.59 1.41.59.51 0 1.02-.2 1.41-.59l7.78-7.78 2.81-2.81c.8-.78.8-2.07 0-2.86zM5.41 20L4 18.59l7.72-7.72 1.47 1.35L5.41 20z\"/>\n",
              "  </svg>\n",
              "      </button>\n",
              "      \n",
              "  <style>\n",
              "    .colab-df-container {\n",
              "      display:flex;\n",
              "      flex-wrap:wrap;\n",
              "      gap: 12px;\n",
              "    }\n",
              "\n",
              "    .colab-df-convert {\n",
              "      background-color: #E8F0FE;\n",
              "      border: none;\n",
              "      border-radius: 50%;\n",
              "      cursor: pointer;\n",
              "      display: none;\n",
              "      fill: #1967D2;\n",
              "      height: 32px;\n",
              "      padding: 0 0 0 0;\n",
              "      width: 32px;\n",
              "    }\n",
              "\n",
              "    .colab-df-convert:hover {\n",
              "      background-color: #E2EBFA;\n",
              "      box-shadow: 0px 1px 2px rgba(60, 64, 67, 0.3), 0px 1px 3px 1px rgba(60, 64, 67, 0.15);\n",
              "      fill: #174EA6;\n",
              "    }\n",
              "\n",
              "    [theme=dark] .colab-df-convert {\n",
              "      background-color: #3B4455;\n",
              "      fill: #D2E3FC;\n",
              "    }\n",
              "\n",
              "    [theme=dark] .colab-df-convert:hover {\n",
              "      background-color: #434B5C;\n",
              "      box-shadow: 0px 1px 3px 1px rgba(0, 0, 0, 0.15);\n",
              "      filter: drop-shadow(0px 1px 2px rgba(0, 0, 0, 0.3));\n",
              "      fill: #FFFFFF;\n",
              "    }\n",
              "  </style>\n",
              "\n",
              "      <script>\n",
              "        const buttonEl =\n",
              "          document.querySelector('#df-f554d7bb-01be-44d6-be2d-589e71c55228 button.colab-df-convert');\n",
              "        buttonEl.style.display =\n",
              "          google.colab.kernel.accessAllowed ? 'block' : 'none';\n",
              "\n",
              "        async function convertToInteractive(key) {\n",
              "          const element = document.querySelector('#df-f554d7bb-01be-44d6-be2d-589e71c55228');\n",
              "          const dataTable =\n",
              "            await google.colab.kernel.invokeFunction('convertToInteractive',\n",
              "                                                     [key], {});\n",
              "          if (!dataTable) return;\n",
              "\n",
              "          const docLinkHtml = 'Like what you see? Visit the ' +\n",
              "            '<a target=\"_blank\" href=https://colab.research.google.com/notebooks/data_table.ipynb>data table notebook</a>'\n",
              "            + ' to learn more about interactive tables.';\n",
              "          element.innerHTML = '';\n",
              "          dataTable['output_type'] = 'display_data';\n",
              "          await google.colab.output.renderOutput(dataTable, element);\n",
              "          const docLink = document.createElement('div');\n",
              "          docLink.innerHTML = docLinkHtml;\n",
              "          element.appendChild(docLink);\n",
              "        }\n",
              "      </script>\n",
              "    </div>\n",
              "  </div>\n",
              "  "
            ],
            "text/plain": [
              "   Unnamed: 0                                            Comment  \\\n",
              "0           0  লিখার সময় পারলে সত্য you piece of it লিখার অভ্...   \n",
              "1           1  সংশ্লিষ্ট সকলের ডিপ্রেশনের সরকার মনোনিত পরিচাল...   \n",
              "2           2  দেশের স্বাভাবিক অর্থনৈতিক গতিপ্রবাহকে বাধাগ্রস...   \n",
              "3           3                                        চুরি লুটপাট   \n",
              "4           4  ইসলামি ব্যাংকের বর্তমান অবস্থা শাসক জামাতের সা...   \n",
              "5           5  একটা ভাল প্রতিষ্ঠান কিভাবে লুট হয়ে যাচেছ angry...   \n",
              "6           6  সরকার ব্যাংকে নিয়গ দিয়েছে ব্যাংকিং ব জানে face...   \n",
              "7           7                   পুরোপুরি আওয়ামিকরন অসতিতই থাকবেক   \n",
              "8           8                এককথায় ব্যাংকটিতে ডাকাতি হয়েছে থাকব   \n",
              "9           9  ইসলামি ব্যাংক প্রারম্ভ গ্রাহকদের পছন্দের ব্যাং...   \n",
              "\n",
              "             Tag  \n",
              "0       Negative  \n",
              "1       Negative  \n",
              "2  Very Negative  \n",
              "3  Very Negative  \n",
              "4        Neutral  \n",
              "5  Very Negative  \n",
              "6  Very Negative  \n",
              "7       Negative  \n",
              "8       Negative  \n",
              "9       Negative  "
            ]
          },
          "execution_count": 229,
          "metadata": {},
          "output_type": "execute_result"
        }
      ],
      "source": [
        "dataframe_processed = decode_target_values(dataframe_processed, 'Tag')\n",
        "dataframe_processed.head(10)"
      ]
    },
    {
      "cell_type": "markdown",
      "metadata": {
        "id": "xNmUNvAVzIUt"
      },
      "source": [
        "store file to drive"
      ]
    },
    {
      "cell_type": "code",
      "execution_count": null,
      "metadata": {
        "id": "s0LlTYNSumh5"
      },
      "outputs": [],
      "source": [
        "y = len(dataframe_processed)\n",
        "\n",
        "for i in range(y):\n",
        "  dataframe_processed.iloc[i, 0] = i\n",
        "\n",
        "path = '/content/drive/MyDrive/Colab Notebooks/Bangla_Sentiment_Analysis/dataframe_processed.csv'\n",
        "with open(path, 'w', encoding = 'utf-8-sig') as f:\n",
        "  dataframe_processed.to_csv(f)\n"
      ]
    },
    {
      "cell_type": "markdown",
      "metadata": {
        "id": "5uLTNGPMstm9"
      },
      "source": [
        "# Analyze processed dataframe"
      ]
    },
    {
      "cell_type": "code",
      "execution_count": 218,
      "metadata": {
        "colab": {
          "base_uri": "https://localhost:8080/",
          "height": 0
        },
        "id": "6JhSJXCgFkXp",
        "outputId": "590d9da6-4a4b-4025-8147-eff5f27c8cd3"
      },
      "outputs": [
        {
          "output_type": "stream",
          "name": "stdout",
          "text": [
            "Shape: (1770, 3)\n",
            "\n",
            "Target class info:\n",
            "Negative         521\n",
            "Very Negative    389\n",
            "Neutral          303\n",
            "Very Positive    285\n",
            "Positive         272\n",
            "Name: Tag, dtype: int64\n",
            "\n"
          ]
        },
        {
          "output_type": "display_data",
          "data": {
            "text/plain": [
              "<Figure size 720x360 with 1 Axes>"
            ],
            "image/png": "[encoded data removed]"
          },
          "metadata": {
            "needs_background": "light"
          }
        }
      ],
      "source": [
        "analyze_dataset(dataframe_processed, 'Tag')"
      ]
    },
    {
      "cell_type": "code",
      "execution_count": 219,
      "metadata": {
        "id": "4l4SENonfKcW"
      },
      "outputs": [],
      "source": [
        "import numpy as np\n",
        "import matplotlib.pyplot as plt\n",
        "from matplotlib.pyplot import figure\n",
        "\n",
        "def draw_line_graph(f_lsts, f_labels, x_label, y_label, title, lgnd_txt):\n",
        "  color_set = ['blue', 'green', 'red', 'black']\n",
        "  color = []\n",
        "  figure(figsize=(15, 7), dpi=80)\n",
        "\n",
        "  # x = np.arange(x_val)\n",
        "  for i in range(len(f_lsts)):\n",
        "    plt.plot(np.array(f_lsts[i]), label=f_labels[i], marker='*')\n",
        "\n",
        "  plt.xlabel(x_label)\n",
        "  plt.ylabel(y_label)\n",
        "  plt.title(title)\n",
        "\n",
        "  plt.legend(lgnd_txt)\n",
        "  plt.show()"
      ]
    },
    {
      "cell_type": "code",
      "execution_count": 220,
      "metadata": {
        "id": "hgc4x2fcRkeO"
      },
      "outputs": [],
      "source": [
        "text_len_list = []\n",
        "processed_text_len_list = []\n",
        "\n",
        "count = 0\n",
        "l = dataframe_processed.shape[0]\n",
        "\n",
        "for i in range(l):\n",
        "  if 200 <= i <= 350:\n",
        "    text  = dataframe.loc[i , 'Comment']\n",
        "    text_len = len(text)\n",
        "    text_len_list.append(text_len)\n",
        "\n",
        "    processed_text = dataframe_processed.loc[i , 'Comment']\n",
        "    processed_text_len = len(processed_text)\n",
        "    processed_text_len_list.append(processed_text_len)\n",
        "\n",
        "    if processed_text_len > text_len:\n",
        "      print(count)\n",
        "      print(f'raw: {text_len}')    \n",
        "      print(f'processed: {processed_text_len}')  \n",
        "    \n",
        "      print(\"\")\n",
        "\n",
        "  count = count + 1\n",
        "\n",
        "lsts = [text_len_list, processed_text_len_list]\n",
        "labels = ['text size', 'processed text size']\n",
        "legend = ['original text', 'processed text']"
      ]
    },
    {
      "cell_type": "code",
      "execution_count": 221,
      "metadata": {
        "colab": {
          "base_uri": "https://localhost:8080/",
          "height": 0
        },
        "id": "Wb828OwCXkwZ",
        "outputId": "17d7d861-56de-4000-8092-028694416eeb"
      },
      "outputs": [
        {
          "output_type": "display_data",
          "data": {
            "text/plain": [
              "<Figure size 1200x560 with 1 Axes>"
            ],
            "image/png": "[encoded data removed]"
          },
          "metadata": {
            "needs_background": "light"
          }
        }
      ],
      "source": [
        "draw_line_graph(lsts, labels, 'instances', 'length', 'original vs processed text length', legend)"
      ]
    },
    {
      "cell_type": "markdown",
      "metadata": {
        "id": "gCzouIPMZ0rp"
      },
      "source": [
        "# Pattern Recognition process starts from here\n",
        "\n",
        "\n"
      ]
    },
    {
      "cell_type": "markdown",
      "metadata": {
        "id": "bxNgbAb2d64C"
      },
      "source": [
        "Machine Learning based models"
      ]
    },
    {
      "cell_type": "code",
      "execution_count": 303,
      "metadata": {
        "id": "vEHUGR94d0Qx"
      },
      "outputs": [],
      "source": [
        "df = dataframe_processed\n",
        "\n",
        "feature = df['Comment']\n",
        "target = df['Tag']"
      ]
    },
    {
      "cell_type": "code",
      "execution_count": 304,
      "metadata": {
        "colab": {
          "base_uri": "https://localhost:8080/"
        },
        "id": "v_Xw7q0Hd0Pb",
        "outputId": "3970bf2b-3802-4a12-96f6-763a5083f17d"
      },
      "outputs": [
        {
          "output_type": "execute_result",
          "data": {
            "text/plain": [
              "0       লিখার সময় পারলে সত্য you piece of it লিখার অভ্...\n",
              "1       সংশ্লিষ্ট সকলের ডিপ্রেশনের সরকার মনোনিত পরিচাল...\n",
              "2       দেশের স্বাভাবিক অর্থনৈতিক গতিপ্রবাহকে বাধাগ্রস...\n",
              "3                                             চুরি লুটপাট\n",
              "4       ইসলামি ব্যাংকের বর্তমান অবস্থা শাসক জামাতের সা...\n",
              "                              ...                        \n",
              "1765                  হিসেব কেবল পুলিশের জন্যই ব্যাংক দরক\n",
              "1766                                  চুরি বড় গলায় কথা বল\n",
              "1767              অনিয়ম দুর্নিতির প্রমান নিশ্চিত গ্রেফতার\n",
              "1768                 সুনিয়ন্ত্রিত লুন্ঠন লুটপাট আওয়াশ চলব\n",
              "1769    দেশের লুটপাটকারিদের সাজা অপসারন লুটপাটকারিরা ল...\n",
              "Name: Comment, Length: 1770, dtype: object"
            ]
          },
          "metadata": {},
          "execution_count": 304
        }
      ],
      "source": [
        "feature"
      ]
    },
    {
      "cell_type": "code",
      "execution_count": 305,
      "metadata": {
        "colab": {
          "base_uri": "https://localhost:8080/"
        },
        "id": "MdHOOP7GeecT",
        "outputId": "072f15a1-1aaa-418a-b08d-9f9429119c49"
      },
      "outputs": [
        {
          "output_type": "execute_result",
          "data": {
            "text/plain": [
              "0            Negative\n",
              "1            Negative\n",
              "2       Very Negative\n",
              "3       Very Negative\n",
              "4             Neutral\n",
              "            ...      \n",
              "1765         Negative\n",
              "1766         Negative\n",
              "1767         Negative\n",
              "1768    Very Negative\n",
              "1769          Neutral\n",
              "Name: Tag, Length: 1770, dtype: object"
            ]
          },
          "metadata": {},
          "execution_count": 305
        }
      ],
      "source": [
        "target"
      ]
    },
    {
      "cell_type": "code",
      "execution_count": 306,
      "metadata": {
        "id": "eaSP1KIQejSr"
      },
      "outputs": [],
      "source": [
        "from sklearn.model_selection import train_test_split\n",
        "\n",
        "train, test = train_test_split(df, test_size=.2, random_state=50, stratify=df['Tag'])"
      ]
    },
    {
      "cell_type": "code",
      "execution_count": 307,
      "metadata": {
        "colab": {
          "base_uri": "https://localhost:8080/",
          "height": 424
        },
        "id": "r_Vb3UMPe-l1",
        "outputId": "a3bad423-e6c7-4377-9818-f764f69e6904"
      },
      "outputs": [
        {
          "output_type": "execute_result",
          "data": {
            "text/plain": [
              "      Unnamed: 0                                            Comment  \\\n",
              "644           54  আপনাদের দলের কেও কেও বিএনপি যুদ্ধ অপরাধি দল বি...   \n",
              "102          102                                   টাকা আসবে কোথা থ   \n",
              "352          116   ব্যাংকের টাকা লুটেপুটে খাচ্ছেনআদায় ট্যাক্স লজ্জা   \n",
              "941          115  ফেব্রুয়ারি বিবি ব্যাংকগুলি অর্থনৈতিক বছর হিসেব...   \n",
              "185           67                      জনগনের টাকা লুটপাটের মচ্ছব চল   \n",
              "...          ...                                                ...   \n",
              "459          105  চিনাদের কোটির বস্তা খুশি হওয়ার এসেছে বানাবার দ...   \n",
              "1691          39                   এগুলো জনগনকে ধোকা দিয়ে ভোট নেয়ার   \n",
              "336          100  লাখ টাকার যন্ত্রাংশ নষ্ট দুদশ টাকা সাশ্রয় কিনা...   \n",
              "1614          80                        গরিব আরো গরিব ধনি আরো ধনবান   \n",
              "741           33  উদোর পিন্ডি বুদোর ঘাড়ে চাপিয়ে প্রকৃত ব্যাংক ল...   \n",
              "\n",
              "                Tag  \n",
              "644         Neutral  \n",
              "102        Negative  \n",
              "352         Neutral  \n",
              "941         Neutral  \n",
              "185   Very Negative  \n",
              "...             ...  \n",
              "459   Very Positive  \n",
              "1691       Negative  \n",
              "336   Very Negative  \n",
              "1614  Very Negative  \n",
              "741   Very Positive  \n",
              "\n",
              "[1416 rows x 3 columns]"
            ],
            "text/html": [
              "\n",
              "  <div id=\"df-dc789e62-e8f2-4d0c-bae5-8a1258490701\">\n",
              "    <div class=\"colab-df-container\">\n",
              "      <div>\n",
              "<style scoped>\n",
              "    .dataframe tbody tr th:only-of-type {\n",
              "        vertical-align: middle;\n",
              "    }\n",
              "\n",
              "    .dataframe tbody tr th {\n",
              "        vertical-align: top;\n",
              "    }\n",
              "\n",
              "    .dataframe thead th {\n",
              "        text-align: right;\n",
              "    }\n",
              "</style>\n",
              "<table border=\"1\" class=\"dataframe\">\n",
              "  <thead>\n",
              "    <tr style=\"text-align: right;\">\n",
              "      <th></th>\n",
              "      <th>Unnamed: 0</th>\n",
              "      <th>Comment</th>\n",
              "      <th>Tag</th>\n",
              "    </tr>\n",
              "  </thead>\n",
              "  <tbody>\n",
              "    <tr>\n",
              "      <th>644</th>\n",
              "      <td>54</td>\n",
              "      <td>আপনাদের দলের কেও কেও বিএনপি যুদ্ধ অপরাধি দল বি...</td>\n",
              "      <td>Neutral</td>\n",
              "    </tr>\n",
              "    <tr>\n",
              "      <th>102</th>\n",
              "      <td>102</td>\n",
              "      <td>টাকা আসবে কোথা থ</td>\n",
              "      <td>Negative</td>\n",
              "    </tr>\n",
              "    <tr>\n",
              "      <th>352</th>\n",
              "      <td>116</td>\n",
              "      <td>ব্যাংকের টাকা লুটেপুটে খাচ্ছেনআদায় ট্যাক্স লজ্জা</td>\n",
              "      <td>Neutral</td>\n",
              "    </tr>\n",
              "    <tr>\n",
              "      <th>941</th>\n",
              "      <td>115</td>\n",
              "      <td>ফেব্রুয়ারি বিবি ব্যাংকগুলি অর্থনৈতিক বছর হিসেব...</td>\n",
              "      <td>Neutral</td>\n",
              "    </tr>\n",
              "    <tr>\n",
              "      <th>185</th>\n",
              "      <td>67</td>\n",
              "      <td>জনগনের টাকা লুটপাটের মচ্ছব চল</td>\n",
              "      <td>Very Negative</td>\n",
              "    </tr>\n",
              "    <tr>\n",
              "      <th>...</th>\n",
              "      <td>...</td>\n",
              "      <td>...</td>\n",
              "      <td>...</td>\n",
              "    </tr>\n",
              "    <tr>\n",
              "      <th>459</th>\n",
              "      <td>105</td>\n",
              "      <td>চিনাদের কোটির বস্তা খুশি হওয়ার এসেছে বানাবার দ...</td>\n",
              "      <td>Very Positive</td>\n",
              "    </tr>\n",
              "    <tr>\n",
              "      <th>1691</th>\n",
              "      <td>39</td>\n",
              "      <td>এগুলো জনগনকে ধোকা দিয়ে ভোট নেয়ার</td>\n",
              "      <td>Negative</td>\n",
              "    </tr>\n",
              "    <tr>\n",
              "      <th>336</th>\n",
              "      <td>100</td>\n",
              "      <td>লাখ টাকার যন্ত্রাংশ নষ্ট দুদশ টাকা সাশ্রয় কিনা...</td>\n",
              "      <td>Very Negative</td>\n",
              "    </tr>\n",
              "    <tr>\n",
              "      <th>1614</th>\n",
              "      <td>80</td>\n",
              "      <td>গরিব আরো গরিব ধনি আরো ধনবান</td>\n",
              "      <td>Very Negative</td>\n",
              "    </tr>\n",
              "    <tr>\n",
              "      <th>741</th>\n",
              "      <td>33</td>\n",
              "      <td>উদোর পিন্ডি বুদোর ঘাড়ে চাপিয়ে প্রকৃত ব্যাংক ল...</td>\n",
              "      <td>Very Positive</td>\n",
              "    </tr>\n",
              "  </tbody>\n",
              "</table>\n",
              "<p>1416 rows × 3 columns</p>\n",
              "</div>\n",
              "      <button class=\"colab-df-convert\" onclick=\"convertToInteractive('df-dc789e62-e8f2-4d0c-bae5-8a1258490701')\"\n",
              "              title=\"Convert this dataframe to an interactive table.\"\n",
              "              style=\"display:none;\">\n",
              "        \n",
              "  <svg xmlns=\"http://www.w3.org/2000/svg\" height=\"24px\"viewBox=\"0 0 24 24\"\n",
              "       width=\"24px\">\n",
              "    <path d=\"M0 0h24v24H0V0z\" fill=\"none\"/>\n",
              "    <path d=\"M18.56 5.44l.94 2.06.94-2.06 2.06-.94-2.06-.94-.94-2.06-.94 2.06-2.06.94zm-11 1L8.5 8.5l.94-2.06 2.06-.94-2.06-.94L8.5 2.5l-.94 2.06-2.06.94zm10 10l.94 2.06.94-2.06 2.06-.94-2.06-.94-.94-2.06-.94 2.06-2.06.94z\"/><path d=\"M17.41 7.96l-1.37-1.37c-.4-.4-.92-.59-1.43-.59-.52 0-1.04.2-1.43.59L10.3 9.45l-7.72 7.72c-.78.78-.78 2.05 0 2.83L4 21.41c.39.39.9.59 1.41.59.51 0 1.02-.2 1.41-.59l7.78-7.78 2.81-2.81c.8-.78.8-2.07 0-2.86zM5.41 20L4 18.59l7.72-7.72 1.47 1.35L5.41 20z\"/>\n",
              "  </svg>\n",
              "      </button>\n",
              "      \n",
              "  <style>\n",
              "    .colab-df-container {\n",
              "      display:flex;\n",
              "      flex-wrap:wrap;\n",
              "      gap: 12px;\n",
              "    }\n",
              "\n",
              "    .colab-df-convert {\n",
              "      background-color: #E8F0FE;\n",
              "      border: none;\n",
              "      border-radius: 50%;\n",
              "      cursor: pointer;\n",
              "      display: none;\n",
              "      fill: #1967D2;\n",
              "      height: 32px;\n",
              "      padding: 0 0 0 0;\n",
              "      width: 32px;\n",
              "    }\n",
              "\n",
              "    .colab-df-convert:hover {\n",
              "      background-color: #E2EBFA;\n",
              "      box-shadow: 0px 1px 2px rgba(60, 64, 67, 0.3), 0px 1px 3px 1px rgba(60, 64, 67, 0.15);\n",
              "      fill: #174EA6;\n",
              "    }\n",
              "\n",
              "    [theme=dark] .colab-df-convert {\n",
              "      background-color: #3B4455;\n",
              "      fill: #D2E3FC;\n",
              "    }\n",
              "\n",
              "    [theme=dark] .colab-df-convert:hover {\n",
              "      background-color: #434B5C;\n",
              "      box-shadow: 0px 1px 3px 1px rgba(0, 0, 0, 0.15);\n",
              "      filter: drop-shadow(0px 1px 2px rgba(0, 0, 0, 0.3));\n",
              "      fill: #FFFFFF;\n",
              "    }\n",
              "  </style>\n",
              "\n",
              "      <script>\n",
              "        const buttonEl =\n",
              "          document.querySelector('#df-dc789e62-e8f2-4d0c-bae5-8a1258490701 button.colab-df-convert');\n",
              "        buttonEl.style.display =\n",
              "          google.colab.kernel.accessAllowed ? 'block' : 'none';\n",
              "\n",
              "        async function convertToInteractive(key) {\n",
              "          const element = document.querySelector('#df-dc789e62-e8f2-4d0c-bae5-8a1258490701');\n",
              "          const dataTable =\n",
              "            await google.colab.kernel.invokeFunction('convertToInteractive',\n",
              "                                                     [key], {});\n",
              "          if (!dataTable) return;\n",
              "\n",
              "          const docLinkHtml = 'Like what you see? Visit the ' +\n",
              "            '<a target=\"_blank\" href=https://colab.research.google.com/notebooks/data_table.ipynb>data table notebook</a>'\n",
              "            + ' to learn more about interactive tables.';\n",
              "          element.innerHTML = '';\n",
              "          dataTable['output_type'] = 'display_data';\n",
              "          await google.colab.output.renderOutput(dataTable, element);\n",
              "          const docLink = document.createElement('div');\n",
              "          docLink.innerHTML = docLinkHtml;\n",
              "          element.appendChild(docLink);\n",
              "        }\n",
              "      </script>\n",
              "    </div>\n",
              "  </div>\n",
              "  "
            ]
          },
          "metadata": {},
          "execution_count": 307
        }
      ],
      "source": [
        "train"
      ]
    },
    {
      "cell_type": "code",
      "execution_count": 308,
      "metadata": {
        "colab": {
          "base_uri": "https://localhost:8080/",
          "height": 424
        },
        "id": "A8OJGpvvfEXe",
        "outputId": "59f9909c-3630-4493-f15b-a784e0848095"
      },
      "outputs": [
        {
          "output_type": "execute_result",
          "data": {
            "text/plain": [
              "      Unnamed: 0                                            Comment  \\\n",
              "467          113  ব্যাংকের ভল্টের নিরাপত্তার ব্যবস্থা করলেই চলবে...   \n",
              "904           78  ভালোইতো সরকারি চাকরিজিবিদের বেতন বাড়ছে সাথে পা...   \n",
              "1247          67  ভালই উড়াল সড়কের ব্যবসা লাভজনক আখেড়ে নিচে নামতে...   \n",
              "877           51  ভাই রে জিডিপি বাড়লো খাতা কলমে বেতন বাড়ে বছরে ...   \n",
              "1761         109  দেশের রাজা পুলিশরা নিরাপদে ঘুষের জবরদস্তির টাক...   \n",
              "...          ...                                                ...   \n",
              "720           12         গোপন রিপোর্ট প্রকাশ দেশের ভয়নক বিপদজনক পার   \n",
              "840           14        সামান্য মানে এসবই আওয়ামি লিগের অন্ধের যষ্ঠি   \n",
              "567           95                     সংশ্লিষ্টদের পৌষ মাস চলছেই মাস   \n",
              "1575          41                সবাই জানে বেড়ালের গলায় ঘন্টা বাঁধবে   \n",
              "1702          50              নাম প্রকাশে অনিচ্ছুক খুবই রিজনেবল কথা   \n",
              "\n",
              "                Tag  \n",
              "467        Negative  \n",
              "904   Very Negative  \n",
              "1247       Positive  \n",
              "877        Positive  \n",
              "1761       Negative  \n",
              "...             ...  \n",
              "720        Negative  \n",
              "840         Neutral  \n",
              "567        Negative  \n",
              "1575  Very Negative  \n",
              "1702        Neutral  \n",
              "\n",
              "[354 rows x 3 columns]"
            ],
            "text/html": [
              "\n",
              "  <div id=\"df-390cf5e3-ccaa-4a43-b3fc-d1373bd0f602\">\n",
              "    <div class=\"colab-df-container\">\n",
              "      <div>\n",
              "<style scoped>\n",
              "    .dataframe tbody tr th:only-of-type {\n",
              "        vertical-align: middle;\n",
              "    }\n",
              "\n",
              "    .dataframe tbody tr th {\n",
              "        vertical-align: top;\n",
              "    }\n",
              "\n",
              "    .dataframe thead th {\n",
              "        text-align: right;\n",
              "    }\n",
              "</style>\n",
              "<table border=\"1\" class=\"dataframe\">\n",
              "  <thead>\n",
              "    <tr style=\"text-align: right;\">\n",
              "      <th></th>\n",
              "      <th>Unnamed: 0</th>\n",
              "      <th>Comment</th>\n",
              "      <th>Tag</th>\n",
              "    </tr>\n",
              "  </thead>\n",
              "  <tbody>\n",
              "    <tr>\n",
              "      <th>467</th>\n",
              "      <td>113</td>\n",
              "      <td>ব্যাংকের ভল্টের নিরাপত্তার ব্যবস্থা করলেই চলবে...</td>\n",
              "      <td>Negative</td>\n",
              "    </tr>\n",
              "    <tr>\n",
              "      <th>904</th>\n",
              "      <td>78</td>\n",
              "      <td>ভালোইতো সরকারি চাকরিজিবিদের বেতন বাড়ছে সাথে পা...</td>\n",
              "      <td>Very Negative</td>\n",
              "    </tr>\n",
              "    <tr>\n",
              "      <th>1247</th>\n",
              "      <td>67</td>\n",
              "      <td>ভালই উড়াল সড়কের ব্যবসা লাভজনক আখেড়ে নিচে নামতে...</td>\n",
              "      <td>Positive</td>\n",
              "    </tr>\n",
              "    <tr>\n",
              "      <th>877</th>\n",
              "      <td>51</td>\n",
              "      <td>ভাই রে জিডিপি বাড়লো খাতা কলমে বেতন বাড়ে বছরে ...</td>\n",
              "      <td>Positive</td>\n",
              "    </tr>\n",
              "    <tr>\n",
              "      <th>1761</th>\n",
              "      <td>109</td>\n",
              "      <td>দেশের রাজা পুলিশরা নিরাপদে ঘুষের জবরদস্তির টাক...</td>\n",
              "      <td>Negative</td>\n",
              "    </tr>\n",
              "    <tr>\n",
              "      <th>...</th>\n",
              "      <td>...</td>\n",
              "      <td>...</td>\n",
              "      <td>...</td>\n",
              "    </tr>\n",
              "    <tr>\n",
              "      <th>720</th>\n",
              "      <td>12</td>\n",
              "      <td>গোপন রিপোর্ট প্রকাশ দেশের ভয়নক বিপদজনক পার</td>\n",
              "      <td>Negative</td>\n",
              "    </tr>\n",
              "    <tr>\n",
              "      <th>840</th>\n",
              "      <td>14</td>\n",
              "      <td>সামান্য মানে এসবই আওয়ামি লিগের অন্ধের যষ্ঠি</td>\n",
              "      <td>Neutral</td>\n",
              "    </tr>\n",
              "    <tr>\n",
              "      <th>567</th>\n",
              "      <td>95</td>\n",
              "      <td>সংশ্লিষ্টদের পৌষ মাস চলছেই মাস</td>\n",
              "      <td>Negative</td>\n",
              "    </tr>\n",
              "    <tr>\n",
              "      <th>1575</th>\n",
              "      <td>41</td>\n",
              "      <td>সবাই জানে বেড়ালের গলায় ঘন্টা বাঁধবে</td>\n",
              "      <td>Very Negative</td>\n",
              "    </tr>\n",
              "    <tr>\n",
              "      <th>1702</th>\n",
              "      <td>50</td>\n",
              "      <td>নাম প্রকাশে অনিচ্ছুক খুবই রিজনেবল কথা</td>\n",
              "      <td>Neutral</td>\n",
              "    </tr>\n",
              "  </tbody>\n",
              "</table>\n",
              "<p>354 rows × 3 columns</p>\n",
              "</div>\n",
              "      <button class=\"colab-df-convert\" onclick=\"convertToInteractive('df-390cf5e3-ccaa-4a43-b3fc-d1373bd0f602')\"\n",
              "              title=\"Convert this dataframe to an interactive table.\"\n",
              "              style=\"display:none;\">\n",
              "        \n",
              "  <svg xmlns=\"http://www.w3.org/2000/svg\" height=\"24px\"viewBox=\"0 0 24 24\"\n",
              "       width=\"24px\">\n",
              "    <path d=\"M0 0h24v24H0V0z\" fill=\"none\"/>\n",
              "    <path d=\"M18.56 5.44l.94 2.06.94-2.06 2.06-.94-2.06-.94-.94-2.06-.94 2.06-2.06.94zm-11 1L8.5 8.5l.94-2.06 2.06-.94-2.06-.94L8.5 2.5l-.94 2.06-2.06.94zm10 10l.94 2.06.94-2.06 2.06-.94-2.06-.94-.94-2.06-.94 2.06-2.06.94z\"/><path d=\"M17.41 7.96l-1.37-1.37c-.4-.4-.92-.59-1.43-.59-.52 0-1.04.2-1.43.59L10.3 9.45l-7.72 7.72c-.78.78-.78 2.05 0 2.83L4 21.41c.39.39.9.59 1.41.59.51 0 1.02-.2 1.41-.59l7.78-7.78 2.81-2.81c.8-.78.8-2.07 0-2.86zM5.41 20L4 18.59l7.72-7.72 1.47 1.35L5.41 20z\"/>\n",
              "  </svg>\n",
              "      </button>\n",
              "      \n",
              "  <style>\n",
              "    .colab-df-container {\n",
              "      display:flex;\n",
              "      flex-wrap:wrap;\n",
              "      gap: 12px;\n",
              "    }\n",
              "\n",
              "    .colab-df-convert {\n",
              "      background-color: #E8F0FE;\n",
              "      border: none;\n",
              "      border-radius: 50%;\n",
              "      cursor: pointer;\n",
              "      display: none;\n",
              "      fill: #1967D2;\n",
              "      height: 32px;\n",
              "      padding: 0 0 0 0;\n",
              "      width: 32px;\n",
              "    }\n",
              "\n",
              "    .colab-df-convert:hover {\n",
              "      background-color: #E2EBFA;\n",
              "      box-shadow: 0px 1px 2px rgba(60, 64, 67, 0.3), 0px 1px 3px 1px rgba(60, 64, 67, 0.15);\n",
              "      fill: #174EA6;\n",
              "    }\n",
              "\n",
              "    [theme=dark] .colab-df-convert {\n",
              "      background-color: #3B4455;\n",
              "      fill: #D2E3FC;\n",
              "    }\n",
              "\n",
              "    [theme=dark] .colab-df-convert:hover {\n",
              "      background-color: #434B5C;\n",
              "      box-shadow: 0px 1px 3px 1px rgba(0, 0, 0, 0.15);\n",
              "      filter: drop-shadow(0px 1px 2px rgba(0, 0, 0, 0.3));\n",
              "      fill: #FFFFFF;\n",
              "    }\n",
              "  </style>\n",
              "\n",
              "      <script>\n",
              "        const buttonEl =\n",
              "          document.querySelector('#df-390cf5e3-ccaa-4a43-b3fc-d1373bd0f602 button.colab-df-convert');\n",
              "        buttonEl.style.display =\n",
              "          google.colab.kernel.accessAllowed ? 'block' : 'none';\n",
              "\n",
              "        async function convertToInteractive(key) {\n",
              "          const element = document.querySelector('#df-390cf5e3-ccaa-4a43-b3fc-d1373bd0f602');\n",
              "          const dataTable =\n",
              "            await google.colab.kernel.invokeFunction('convertToInteractive',\n",
              "                                                     [key], {});\n",
              "          if (!dataTable) return;\n",
              "\n",
              "          const docLinkHtml = 'Like what you see? Visit the ' +\n",
              "            '<a target=\"_blank\" href=https://colab.research.google.com/notebooks/data_table.ipynb>data table notebook</a>'\n",
              "            + ' to learn more about interactive tables.';\n",
              "          element.innerHTML = '';\n",
              "          dataTable['output_type'] = 'display_data';\n",
              "          await google.colab.output.renderOutput(dataTable, element);\n",
              "          const docLink = document.createElement('div');\n",
              "          docLink.innerHTML = docLinkHtml;\n",
              "          element.appendChild(docLink);\n",
              "        }\n",
              "      </script>\n",
              "    </div>\n",
              "  </div>\n",
              "  "
            ]
          },
          "metadata": {},
          "execution_count": 308
        }
      ],
      "source": [
        "test"
      ]
    },
    {
      "cell_type": "code",
      "execution_count": 309,
      "metadata": {
        "id": "f7-hKdAmfJnx"
      },
      "outputs": [],
      "source": [
        "train_x = train['Comment']\n",
        "train_y = train['Tag']"
      ]
    },
    {
      "cell_type": "code",
      "execution_count": 310,
      "metadata": {
        "colab": {
          "base_uri": "https://localhost:8080/"
        },
        "id": "KyL8mRwOfUCl",
        "outputId": "973122e7-0587-4bb6-d086-df9a8c6e3fab"
      },
      "outputs": [
        {
          "output_type": "execute_result",
          "data": {
            "text/plain": [
              "644     আপনাদের দলের কেও কেও বিএনপি যুদ্ধ অপরাধি দল বি...\n",
              "102                                      টাকা আসবে কোথা থ\n",
              "352      ব্যাংকের টাকা লুটেপুটে খাচ্ছেনআদায় ট্যাক্স লজ্জা\n",
              "941     ফেব্রুয়ারি বিবি ব্যাংকগুলি অর্থনৈতিক বছর হিসেব...\n",
              "185                         জনগনের টাকা লুটপাটের মচ্ছব চল\n",
              "                              ...                        \n",
              "459     চিনাদের কোটির বস্তা খুশি হওয়ার এসেছে বানাবার দ...\n",
              "1691                     এগুলো জনগনকে ধোকা দিয়ে ভোট নেয়ার\n",
              "336     লাখ টাকার যন্ত্রাংশ নষ্ট দুদশ টাকা সাশ্রয় কিনা...\n",
              "1614                          গরিব আরো গরিব ধনি আরো ধনবান\n",
              "741     উদোর পিন্ডি বুদোর ঘাড়ে চাপিয়ে প্রকৃত ব্যাংক ল...\n",
              "Name: Comment, Length: 1416, dtype: object"
            ]
          },
          "metadata": {},
          "execution_count": 310
        }
      ],
      "source": [
        "train_x"
      ]
    },
    {
      "cell_type": "code",
      "execution_count": 311,
      "metadata": {
        "colab": {
          "base_uri": "https://localhost:8080/"
        },
        "id": "gc6KwL9tfY4t",
        "outputId": "2047b49f-2615-4950-cf23-c53cae231eab"
      },
      "outputs": [
        {
          "output_type": "execute_result",
          "data": {
            "text/plain": [
              "644           Neutral\n",
              "102          Negative\n",
              "352           Neutral\n",
              "941           Neutral\n",
              "185     Very Negative\n",
              "            ...      \n",
              "459     Very Positive\n",
              "1691         Negative\n",
              "336     Very Negative\n",
              "1614    Very Negative\n",
              "741     Very Positive\n",
              "Name: Tag, Length: 1416, dtype: object"
            ]
          },
          "metadata": {},
          "execution_count": 311
        }
      ],
      "source": [
        "train_y"
      ]
    },
    {
      "cell_type": "code",
      "execution_count": 312,
      "metadata": {
        "id": "QT5ogOP6fjyW"
      },
      "outputs": [],
      "source": [
        "test_x = test['Comment']\n",
        "test_y = test['Tag']"
      ]
    },
    {
      "cell_type": "code",
      "execution_count": 313,
      "metadata": {
        "colab": {
          "base_uri": "https://localhost:8080/"
        },
        "id": "hu8cJ9kifjwv",
        "outputId": "18339869-d096-4361-869c-952ea190b015"
      },
      "outputs": [
        {
          "output_type": "execute_result",
          "data": {
            "text/plain": [
              "467     ব্যাংকের ভল্টের নিরাপত্তার ব্যবস্থা করলেই চলবে...\n",
              "904     ভালোইতো সরকারি চাকরিজিবিদের বেতন বাড়ছে সাথে পা...\n",
              "1247    ভালই উড়াল সড়কের ব্যবসা লাভজনক আখেড়ে নিচে নামতে...\n",
              "877     ভাই রে জিডিপি বাড়লো খাতা কলমে বেতন বাড়ে বছরে ...\n",
              "1761    দেশের রাজা পুলিশরা নিরাপদে ঘুষের জবরদস্তির টাক...\n",
              "                              ...                        \n",
              "720            গোপন রিপোর্ট প্রকাশ দেশের ভয়নক বিপদজনক পার\n",
              "840           সামান্য মানে এসবই আওয়ামি লিগের অন্ধের যষ্ঠি\n",
              "567                        সংশ্লিষ্টদের পৌষ মাস চলছেই মাস\n",
              "1575                  সবাই জানে বেড়ালের গলায় ঘন্টা বাঁধবে\n",
              "1702                নাম প্রকাশে অনিচ্ছুক খুবই রিজনেবল কথা\n",
              "Name: Comment, Length: 354, dtype: object"
            ]
          },
          "metadata": {},
          "execution_count": 313
        }
      ],
      "source": [
        "test_x"
      ]
    },
    {
      "cell_type": "code",
      "execution_count": 314,
      "metadata": {
        "colab": {
          "base_uri": "https://localhost:8080/"
        },
        "id": "vidB0q7yfu1q",
        "outputId": "90666a88-40aa-401f-b272-c9d49c3d6c46"
      },
      "outputs": [
        {
          "output_type": "execute_result",
          "data": {
            "text/plain": [
              "467          Negative\n",
              "904     Very Negative\n",
              "1247         Positive\n",
              "877          Positive\n",
              "1761         Negative\n",
              "            ...      \n",
              "720          Negative\n",
              "840           Neutral\n",
              "567          Negative\n",
              "1575    Very Negative\n",
              "1702          Neutral\n",
              "Name: Tag, Length: 354, dtype: object"
            ]
          },
          "metadata": {},
          "execution_count": 314
        }
      ],
      "source": [
        "test_y"
      ]
    },
    {
      "cell_type": "markdown",
      "metadata": {
        "id": "0pXZaOuyfyR0"
      },
      "source": [
        "# *TF - IDF vectorization process*"
      ]
    },
    {
      "cell_type": "code",
      "execution_count": 315,
      "metadata": {
        "id": "-xnaYY_XriVL"
      },
      "outputs": [],
      "source": [
        "from sklearn.feature_extraction.text import TfidfVectorizer\n",
        "from sklearn.feature_extraction.text import CountVectorizer\n",
        "\n",
        "vect = TfidfVectorizer()\n",
        "vc = CountVectorizer()"
      ]
    },
    {
      "cell_type": "code",
      "execution_count": 316,
      "metadata": {
        "id": "ClVl__descSO"
      },
      "outputs": [],
      "source": [
        "feature_dtm = vect.fit_transform(feature)\n",
        "feature_cv = vc.fit_transform(feature)"
      ]
    },
    {
      "cell_type": "code",
      "execution_count": 317,
      "metadata": {
        "colab": {
          "base_uri": "https://localhost:8080/"
        },
        "id": "m3BJ6XX-f79d",
        "outputId": "3674f19b-2912-4485-f216-444d07e58b40"
      },
      "outputs": [
        {
          "output_type": "execute_result",
          "data": {
            "text/plain": [
              "TfidfVectorizer()"
            ]
          },
          "metadata": {},
          "execution_count": 317
        }
      ],
      "source": [
        "vect.fit(train_x)"
      ]
    },
    {
      "cell_type": "code",
      "execution_count": 318,
      "metadata": {
        "id": "PHSM-3Kin6M1"
      },
      "outputs": [],
      "source": [
        "train_x_dtm = vect.transform(train_x)"
      ]
    },
    {
      "cell_type": "code",
      "execution_count": 319,
      "metadata": {
        "colab": {
          "base_uri": "https://localhost:8080/"
        },
        "id": "V6uKbxl2g8gl",
        "outputId": "ccd2c2ce-f63d-480e-f52a-ad8e854d41a3"
      },
      "outputs": [
        {
          "output_type": "execute_result",
          "data": {
            "text/plain": [
              "<1416x1591 sparse matrix of type '<class 'numpy.float64'>'\n",
              "\twith 12434 stored elements in Compressed Sparse Row format>"
            ]
          },
          "metadata": {},
          "execution_count": 319
        }
      ],
      "source": [
        "train_x_dtm"
      ]
    },
    {
      "cell_type": "code",
      "execution_count": 320,
      "metadata": {
        "colab": {
          "base_uri": "https://localhost:8080/"
        },
        "id": "4AlGejo6kX-5",
        "outputId": "1cb3ebf9-16e9-4994-89d6-629c01e014f4"
      },
      "outputs": [
        {
          "output_type": "execute_result",
          "data": {
            "text/plain": [
              "(1416, 1591)"
            ]
          },
          "metadata": {},
          "execution_count": 320
        }
      ],
      "source": [
        "train_x_dtm.shape"
      ]
    },
    {
      "cell_type": "code",
      "execution_count": 321,
      "metadata": {
        "colab": {
          "base_uri": "https://localhost:8080/"
        },
        "id": "w4gCKE9Cj8bg",
        "outputId": "2b61233e-ffce-46cc-c6c1-7b3728c2ff7b"
      },
      "outputs": [
        {
          "output_type": "stream",
          "name": "stdout",
          "text": [
            "  (0, 851)\t0.5146278544660158\n",
            "  (0, 630)\t0.3980575338155258\n",
            "  (0, 359)\t0.48898361770023296\n",
            "  (0, 136)\t0.45115506018110385\n",
            "  (0, 130)\t0.23303276435735465\n",
            "  (0, 45)\t0.28241500528504726\n",
            "  (1, 167)\t1.0\n",
            "  (2, 1331)\t0.5914979419475315\n",
            "  (2, 883)\t0.8063065078937629\n",
            "  (3, 1186)\t0.5670250172249806\n",
            "  (3, 1046)\t0.38123080751803373\n",
            "  (3, 818)\t0.43284788352278764\n",
            "  (3, 444)\t0.487563670204146\n",
            "  (3, 71)\t0.32874013820503317\n",
            "  (4, 1135)\t0.5085860153922994\n",
            "  (4, 732)\t0.40254748820010916\n",
            "  (4, 684)\t0.33609370660815424\n",
            "  (4, 655)\t0.5472848752499105\n",
            "  (4, 640)\t0.4084312309217409\n",
            "  (5, 758)\t0.8148366722631583\n",
            "  (5, 479)\t0.5796906050084842\n",
            "  (7, 1550)\t0.49186323421372025\n",
            "  (7, 758)\t0.3825908826168355\n",
            "  (7, 217)\t0.525869332140828\n",
            "  (7, 194)\t0.5789267836963922\n",
            "  :\t:\n",
            "  (1411, 1099)\t0.21191617679421862\n",
            "  (1411, 1085)\t0.2316873040414815\n",
            "  (1411, 830)\t0.2455880755979202\n",
            "  (1411, 695)\t0.37721049754946046\n",
            "  (1411, 663)\t0.37721049754946046\n",
            "  (1411, 391)\t0.2623695566997318\n",
            "  (1412, 686)\t0.8211941564420482\n",
            "  (1412, 339)\t0.5706488915484134\n",
            "  (1413, 1313)\t0.27847012434707025\n",
            "  (1413, 1202)\t0.36334821125359285\n",
            "  (1413, 990)\t0.20071628927016993\n",
            "  (1413, 935)\t0.7578953042959029\n",
            "  (1413, 855)\t0.37894765214795145\n",
            "  (1413, 493)\t0.17927304065121247\n",
            "  (1414, 870)\t0.5346973485198415\n",
            "  (1414, 868)\t0.3145789630065356\n",
            "  (1414, 587)\t0.544312655276688\n",
            "  (1414, 150)\t0.5646791609624221\n",
            "  (1415, 1232)\t0.23973309297956855\n",
            "  (1415, 1075)\t0.27990076927052643\n",
            "  (1415, 623)\t0.4071606343455073\n",
            "  (1415, 349)\t0.4914819455560605\n",
            "  (1415, 257)\t0.3183281262845222\n",
            "  (1415, 173)\t0.46247485724614174\n",
            "  (1415, 51)\t0.37634230290435977\n"
          ]
        }
      ],
      "source": [
        "print(train_x_dtm)"
      ]
    },
    {
      "cell_type": "code",
      "execution_count": 322,
      "metadata": {
        "id": "Lr11S0-yhYgT"
      },
      "outputs": [],
      "source": [
        "test_x_dtm = vect.transform(test_x)"
      ]
    },
    {
      "cell_type": "code",
      "execution_count": 323,
      "metadata": {
        "colab": {
          "base_uri": "https://localhost:8080/"
        },
        "id": "dipgLaxDhiYj",
        "outputId": "5fe27ce8-54f6-4792-8e01-3d19122b96a2"
      },
      "outputs": [
        {
          "output_type": "execute_result",
          "data": {
            "text/plain": [
              "<354x1591 sparse matrix of type '<class 'numpy.float64'>'\n",
              "\twith 2913 stored elements in Compressed Sparse Row format>"
            ]
          },
          "metadata": {},
          "execution_count": 323
        }
      ],
      "source": [
        "test_x_dtm"
      ]
    },
    {
      "cell_type": "code",
      "execution_count": 324,
      "metadata": {
        "colab": {
          "base_uri": "https://localhost:8080/"
        },
        "id": "Jm0gVdEpkhUW",
        "outputId": "8f8412f6-0122-4b80-b744-3a46825cdb1a"
      },
      "outputs": [
        {
          "output_type": "execute_result",
          "data": {
            "text/plain": [
              "(354, 1591)"
            ]
          },
          "metadata": {},
          "execution_count": 324
        }
      ],
      "source": [
        "test_x_dtm.shape"
      ]
    },
    {
      "cell_type": "code",
      "execution_count": 325,
      "metadata": {
        "colab": {
          "base_uri": "https://localhost:8080/"
        },
        "id": "oWtrbOBykCMt",
        "outputId": "015a8934-39bc-4368-89fc-331702c06f9c"
      },
      "outputs": [
        {
          "output_type": "stream",
          "name": "stdout",
          "text": [
            "  (0, 1532)\t0.25904006507226185\n",
            "  (0, 1209)\t0.25472328672662076\n",
            "  (0, 1060)\t0.24681683625880357\n",
            "  (0, 970)\t0.3435325765880646\n",
            "  (0, 732)\t0.341084407519602\n",
            "  (0, 643)\t0.4026448705892808\n",
            "  (0, 557)\t0.5276481515795931\n",
            "  (0, 504)\t0.3636029060916438\n",
            "  (1, 1561)\t0.6770375444116266\n",
            "  (1, 1488)\t0.10421243141824706\n",
            "  (1, 1462)\t0.21292336978371265\n",
            "  (1, 1461)\t0.15682475787418293\n",
            "  (1, 1137)\t0.18813425841849649\n",
            "  (1, 970)\t0.17610095874010984\n",
            "  (1, 845)\t0.16613329564263965\n",
            "  (1, 781)\t0.2807808886851294\n",
            "  (1, 587)\t0.1376729506224849\n",
            "  (1, 493)\t0.19823504059735983\n",
            "  (1, 483)\t0.2559812033350476\n",
            "  (1, 201)\t0.17132545844903505\n",
            "  (1, 174)\t0.3383146646739243\n",
            "  (1, 150)\t0.14282424906179697\n",
            "  (2, 1507)\t0.3094459581969033\n",
            "  (2, 1474)\t0.17673328403105593\n",
            "  (2, 1319)\t0.35086138457840055\n",
            "  :\t:\n",
            "  (348, 777)\t0.31990792917156086\n",
            "  (348, 700)\t0.28688663453555363\n",
            "  (348, 540)\t0.30885053274371693\n",
            "  (348, 535)\t0.29163530795411996\n",
            "  (348, 501)\t0.28250361944435465\n",
            "  (348, 493)\t0.47351988050100524\n",
            "  (348, 139)\t0.3055952988389889\n",
            "  (348, 125)\t0.29416688423352266\n",
            "  (349, 1232)\t0.3666357517629269\n",
            "  (349, 981)\t0.42526063717922225\n",
            "  (349, 976)\t0.8274851152710576\n",
            "  (350, 101)\t0.8242568161889765\n",
            "  (350, 32)\t0.5662161256675862\n",
            "  (351, 728)\t0.7637842294768333\n",
            "  (351, 641)\t0.6454716498828436\n",
            "  (352, 1461)\t0.41750699928595597\n",
            "  (352, 871)\t0.5348199575943835\n",
            "  (352, 606)\t0.5494967136824553\n",
            "  (352, 590)\t0.48755397666121064\n",
            "  (353, 1232)\t0.3494368409685453\n",
            "  (353, 1075)\t0.40798556170505074\n",
            "  (353, 1034)\t0.5539082449291105\n",
            "  (353, 680)\t0.38283774241407564\n",
            "  (353, 464)\t0.36798648006375884\n",
            "  (353, 32)\t0.35021214326072286\n"
          ]
        }
      ],
      "source": [
        "print(test_x_dtm)"
      ]
    },
    {
      "cell_type": "markdown",
      "source": [
        "# Model based accuracy track"
      ],
      "metadata": {
        "id": "tFEnU0LXEZKD"
      }
    },
    {
      "cell_type": "code",
      "source": [
        "acc_lst = []\n",
        "mdl_lst = []"
      ],
      "metadata": {
        "id": "YtFAftCrEXJQ"
      },
      "execution_count": 326,
      "outputs": []
    },
    {
      "cell_type": "markdown",
      "metadata": {
        "id": "ouuvwbZFhvOY"
      },
      "source": [
        "# Naive Bayes Model implementation"
      ]
    },
    {
      "cell_type": "markdown",
      "metadata": {
        "id": "p2ArxLYd2WZ0"
      },
      "source": [
        "Normal Naive Bayes"
      ]
    },
    {
      "cell_type": "code",
      "execution_count": 327,
      "metadata": {
        "colab": {
          "base_uri": "https://localhost:8080/"
        },
        "id": "IeINZboThrK9",
        "outputId": "e783ce55-ca0c-4cd8-ecb6-3fa734868b1b"
      },
      "outputs": [
        {
          "output_type": "execute_result",
          "data": {
            "text/plain": [
              "MultinomialNB()"
            ]
          },
          "metadata": {},
          "execution_count": 327
        }
      ],
      "source": [
        "from sklearn.naive_bayes import MultinomialNB\n",
        "\n",
        "NB_classifier = MultinomialNB()\n",
        "NB_classifier.fit(train_x_dtm, train_y)"
      ]
    },
    {
      "cell_type": "code",
      "execution_count": 328,
      "metadata": {
        "id": "CZux9Mbpisnb"
      },
      "outputs": [],
      "source": [
        "NB_prediction = NB_classifier.predict(test_x_dtm)"
      ]
    },
    {
      "cell_type": "code",
      "execution_count": 329,
      "metadata": {
        "colab": {
          "base_uri": "https://localhost:8080/"
        },
        "id": "UzqAO0jljAKb",
        "outputId": "6fb64914-577e-49f3-ef2d-a6b25157eaab"
      },
      "outputs": [
        {
          "output_type": "execute_result",
          "data": {
            "text/plain": [
              "0.2768361581920904"
            ]
          },
          "metadata": {},
          "execution_count": 329
        }
      ],
      "source": [
        "from sklearn import metrics\n",
        "\n",
        "acc_score = metrics.accuracy_score(test_y, NB_prediction)\n",
        "acc_score"
      ]
    },
    {
      "cell_type": "code",
      "source": [
        "acc_lst.append(acc_score)\n",
        "mdl_lst.append('NB')"
      ],
      "metadata": {
        "id": "jtvAmbV-Eqll"
      },
      "execution_count": 330,
      "outputs": []
    },
    {
      "cell_type": "code",
      "execution_count": 331,
      "metadata": {
        "colab": {
          "base_uri": "https://localhost:8080/"
        },
        "id": "dmA3hfB-jmRm",
        "outputId": "90b2df5c-19f0-482a-d27e-691e3a2d772f"
      },
      "outputs": [
        {
          "output_type": "execute_result",
          "data": {
            "text/plain": [
              "array([[81,  3,  1, 19,  0],\n",
              "       [52,  0,  0,  8,  1],\n",
              "       [42,  3,  0,  9,  0],\n",
              "       [60,  2,  0, 16,  0],\n",
              "       [48,  0,  1,  7,  1]])"
            ]
          },
          "metadata": {},
          "execution_count": 331
        }
      ],
      "source": [
        "metrics.confusion_matrix(test_y, NB_prediction)"
      ]
    },
    {
      "cell_type": "markdown",
      "metadata": {
        "id": "MxDkYoFhpy8h"
      },
      "source": [
        "Naive Bayes with K-Fold cross validation"
      ]
    },
    {
      "cell_type": "code",
      "execution_count": 341,
      "metadata": {
        "id": "Bx4myYVwpyBS"
      },
      "outputs": [],
      "source": [
        "from sklearn.model_selection import cross_val_score\n",
        "\n",
        "k_values = [3, 5, 10]\n",
        "scores = []\n",
        "\n",
        "for k in k_values:\n",
        "  score_set = cross_val_score(NB_classifier, feature_dtm, target, cv=k)\n",
        "  scores.append(float(np.average(score_set)))\n"
      ]
    },
    {
      "cell_type": "code",
      "execution_count": 342,
      "metadata": {
        "colab": {
          "base_uri": "https://localhost:8080/"
        },
        "id": "Gv2Uc1OKthyx",
        "outputId": "22d7054d-3ed0-4a33-bded-fcfe562c95d4"
      },
      "outputs": [
        {
          "output_type": "execute_result",
          "data": {
            "text/plain": [
              "[0.27909604519774006, 0.2711864406779661, 0.2694915254237288]"
            ]
          },
          "metadata": {},
          "execution_count": 342
        }
      ],
      "source": [
        "scores"
      ]
    },
    {
      "cell_type": "code",
      "execution_count": 343,
      "metadata": {
        "colab": {
          "base_uri": "https://localhost:8080/"
        },
        "id": "YW63_M_KtrZn",
        "outputId": "9e01c38c-0dc5-4b6f-cbeb-f04042489992"
      },
      "outputs": [
        {
          "output_type": "execute_result",
          "data": {
            "text/plain": [
              "0.27909604519774006"
            ]
          },
          "metadata": {},
          "execution_count": 343
        }
      ],
      "source": [
        "from sklearn.model_selection import cross_val_score\n",
        "\n",
        "score_set = cross_val_score(NB_classifier, feature_dtm, target, cv=3)\n",
        "acc_score = np.average(score_set)\n",
        "acc_score"
      ]
    },
    {
      "cell_type": "code",
      "source": [
        "acc_lst.append(acc_score)\n",
        "mdl_lst.append('NB_KFold')"
      ],
      "metadata": {
        "id": "ZnpA_FNCFFaW"
      },
      "execution_count": 344,
      "outputs": []
    },
    {
      "cell_type": "markdown",
      "metadata": {
        "id": "F94S8ZyWmgW6"
      },
      "source": [
        "# Logistic Regression model implementation"
      ]
    },
    {
      "cell_type": "markdown",
      "metadata": {
        "id": "ApT_bjyU2cr6"
      },
      "source": [
        "Normal Logistic Regression"
      ]
    },
    {
      "cell_type": "code",
      "execution_count": 345,
      "metadata": {
        "colab": {
          "base_uri": "https://localhost:8080/"
        },
        "id": "MNeFeHI6mkx-",
        "outputId": "be67e3f2-d81e-4787-8e12-6dbb91da77b5"
      },
      "outputs": [
        {
          "output_type": "execute_result",
          "data": {
            "text/plain": [
              "LogisticRegression()"
            ]
          },
          "metadata": {},
          "execution_count": 345
        }
      ],
      "source": [
        "from sklearn.linear_model import LogisticRegression\n",
        "\n",
        "LR_classifier = LogisticRegression()\n",
        "\n",
        "LR_classifier.fit(train_x_dtm, train_y)"
      ]
    },
    {
      "cell_type": "code",
      "execution_count": 346,
      "metadata": {
        "id": "t3RmIVT3or3h"
      },
      "outputs": [],
      "source": [
        "LR_prediction = LR_classifier.predict(test_x_dtm)"
      ]
    },
    {
      "cell_type": "code",
      "execution_count": 347,
      "metadata": {
        "colab": {
          "base_uri": "https://localhost:8080/"
        },
        "id": "H7a1mrV9pKXz",
        "outputId": "1bb4a8bc-f07e-4d52-8d47-13b022490de2"
      },
      "outputs": [
        {
          "output_type": "execute_result",
          "data": {
            "text/plain": [
              "0.3135593220338983"
            ]
          },
          "metadata": {},
          "execution_count": 347
        }
      ],
      "source": [
        "acc_score = metrics.accuracy_score(test_y, LR_prediction)\n",
        "acc_score"
      ]
    },
    {
      "cell_type": "code",
      "source": [
        "acc_lst.append(acc_score)\n",
        "mdl_lst.append('LR')"
      ],
      "metadata": {
        "id": "_Xxk-68eFO-7"
      },
      "execution_count": 348,
      "outputs": []
    },
    {
      "cell_type": "code",
      "execution_count": 349,
      "metadata": {
        "colab": {
          "base_uri": "https://localhost:8080/"
        },
        "id": "whmU4g84pUrT",
        "outputId": "10894764-d373-465f-d3ba-5950efd7d8c0"
      },
      "outputs": [
        {
          "output_type": "execute_result",
          "data": {
            "text/plain": [
              "array([[64, 10,  4, 21,  5],\n",
              "       [32,  9,  2, 11,  7],\n",
              "       [21,  6,  7, 16,  4],\n",
              "       [41,  7,  2, 24,  4],\n",
              "       [35,  3,  5,  7,  7]])"
            ]
          },
          "metadata": {},
          "execution_count": 349
        }
      ],
      "source": [
        "metrics.confusion_matrix(test_y, LR_prediction)"
      ]
    },
    {
      "cell_type": "markdown",
      "metadata": {
        "id": "NmfhClyt2lHH"
      },
      "source": [
        "Logistic Regression with Grid search and K Fold (Hyperparameter tuning)"
      ]
    },
    {
      "cell_type": "code",
      "execution_count": 350,
      "metadata": {
        "id": "X0LgT22qrPha"
      },
      "outputs": [],
      "source": [
        "LR_classifier_gs = LogisticRegression(max_iter=1000)"
      ]
    },
    {
      "cell_type": "code",
      "execution_count": 351,
      "metadata": {
        "id": "ICYLtR9A2saK"
      },
      "outputs": [],
      "source": [
        "param = {\n",
        "    'C': range(1, 10),\n",
        "    'penalty': ['l1', 'l2', 'elasticnet'],\n",
        "    'solver': ['lbfgs', 'liblinear', 'sag', 'saga']\n",
        "}"
      ]
    },
    {
      "cell_type": "code",
      "execution_count": 352,
      "metadata": {
        "id": "P5QgxIBIlGM6"
      },
      "outputs": [],
      "source": [
        "from sklearn.model_selection import GridSearchCV\n",
        "\n",
        "grid_search_cv = GridSearchCV(LR_classifier_gs, param, cv=3)"
      ]
    },
    {
      "cell_type": "code",
      "execution_count": 353,
      "metadata": {
        "id": "QQYZW08dlpQx",
        "colab": {
          "base_uri": "https://localhost:8080/"
        },
        "outputId": "caaa0383-532c-4ae5-c848-0130095ec124"
      },
      "outputs": [
        {
          "output_type": "stream",
          "name": "stderr",
          "text": [
            "/usr/local/lib/python3.7/dist-packages/sklearn/svm/_base.py:1208: ConvergenceWarning: Liblinear failed to converge, increase the number of iterations.\n",
            "  ConvergenceWarning,\n",
            "/usr/local/lib/python3.7/dist-packages/sklearn/svm/_base.py:1208: ConvergenceWarning: Liblinear failed to converge, increase the number of iterations.\n",
            "  ConvergenceWarning,\n",
            "/usr/local/lib/python3.7/dist-packages/sklearn/linear_model/_sag.py:354: ConvergenceWarning: The max_iter was reached which means the coef_ did not converge\n",
            "  ConvergenceWarning,\n",
            "/usr/local/lib/python3.7/dist-packages/sklearn/svm/_base.py:1208: ConvergenceWarning: Liblinear failed to converge, increase the number of iterations.\n",
            "  ConvergenceWarning,\n",
            "/usr/local/lib/python3.7/dist-packages/sklearn/linear_model/_sag.py:354: ConvergenceWarning: The max_iter was reached which means the coef_ did not converge\n",
            "  ConvergenceWarning,\n",
            "/usr/local/lib/python3.7/dist-packages/sklearn/linear_model/_sag.py:354: ConvergenceWarning: The max_iter was reached which means the coef_ did not converge\n",
            "  ConvergenceWarning,\n",
            "/usr/local/lib/python3.7/dist-packages/sklearn/linear_model/_sag.py:354: ConvergenceWarning: The max_iter was reached which means the coef_ did not converge\n",
            "  ConvergenceWarning,\n",
            "/usr/local/lib/python3.7/dist-packages/sklearn/linear_model/_sag.py:354: ConvergenceWarning: The max_iter was reached which means the coef_ did not converge\n",
            "  ConvergenceWarning,\n",
            "/usr/local/lib/python3.7/dist-packages/sklearn/linear_model/_sag.py:354: ConvergenceWarning: The max_iter was reached which means the coef_ did not converge\n",
            "  ConvergenceWarning,\n",
            "/usr/local/lib/python3.7/dist-packages/sklearn/svm/_base.py:1208: ConvergenceWarning: Liblinear failed to converge, increase the number of iterations.\n",
            "  ConvergenceWarning,\n",
            "/usr/local/lib/python3.7/dist-packages/sklearn/linear_model/_sag.py:354: ConvergenceWarning: The max_iter was reached which means the coef_ did not converge\n",
            "  ConvergenceWarning,\n",
            "/usr/local/lib/python3.7/dist-packages/sklearn/linear_model/_sag.py:354: ConvergenceWarning: The max_iter was reached which means the coef_ did not converge\n",
            "  ConvergenceWarning,\n",
            "/usr/local/lib/python3.7/dist-packages/sklearn/linear_model/_sag.py:354: ConvergenceWarning: The max_iter was reached which means the coef_ did not converge\n",
            "  ConvergenceWarning,\n",
            "/usr/local/lib/python3.7/dist-packages/sklearn/model_selection/_validation.py:372: FitFailedWarning: \n",
            "162 fits failed out of a total of 324.\n",
            "The score on these train-test partitions for these parameters will be set to nan.\n",
            "If these failures are not expected, you can try to debug them by setting error_score='raise'.\n",
            "\n",
            "Below are more details about the failures:\n",
            "--------------------------------------------------------------------------------\n",
            "27 fits failed with the following error:\n",
            "Traceback (most recent call last):\n",
            "  File \"/usr/local/lib/python3.7/dist-packages/sklearn/model_selection/_validation.py\", line 680, in _fit_and_score\n",
            "    estimator.fit(X_train, y_train, **fit_params)\n",
            "  File \"/usr/local/lib/python3.7/dist-packages/sklearn/linear_model/_logistic.py\", line 1461, in fit\n",
            "    solver = _check_solver(self.solver, self.penalty, self.dual)\n",
            "  File \"/usr/local/lib/python3.7/dist-packages/sklearn/linear_model/_logistic.py\", line 449, in _check_solver\n",
            "    % (solver, penalty)\n",
            "ValueError: Solver lbfgs supports only 'l2' or 'none' penalties, got l1 penalty.\n",
            "\n",
            "--------------------------------------------------------------------------------\n",
            "27 fits failed with the following error:\n",
            "Traceback (most recent call last):\n",
            "  File \"/usr/local/lib/python3.7/dist-packages/sklearn/model_selection/_validation.py\", line 680, in _fit_and_score\n",
            "    estimator.fit(X_train, y_train, **fit_params)\n",
            "  File \"/usr/local/lib/python3.7/dist-packages/sklearn/linear_model/_logistic.py\", line 1461, in fit\n",
            "    solver = _check_solver(self.solver, self.penalty, self.dual)\n",
            "  File \"/usr/local/lib/python3.7/dist-packages/sklearn/linear_model/_logistic.py\", line 449, in _check_solver\n",
            "    % (solver, penalty)\n",
            "ValueError: Solver sag supports only 'l2' or 'none' penalties, got l1 penalty.\n",
            "\n",
            "--------------------------------------------------------------------------------\n",
            "27 fits failed with the following error:\n",
            "Traceback (most recent call last):\n",
            "  File \"/usr/local/lib/python3.7/dist-packages/sklearn/model_selection/_validation.py\", line 680, in _fit_and_score\n",
            "    estimator.fit(X_train, y_train, **fit_params)\n",
            "  File \"/usr/local/lib/python3.7/dist-packages/sklearn/linear_model/_logistic.py\", line 1461, in fit\n",
            "    solver = _check_solver(self.solver, self.penalty, self.dual)\n",
            "  File \"/usr/local/lib/python3.7/dist-packages/sklearn/linear_model/_logistic.py\", line 449, in _check_solver\n",
            "    % (solver, penalty)\n",
            "ValueError: Solver lbfgs supports only 'l2' or 'none' penalties, got elasticnet penalty.\n",
            "\n",
            "--------------------------------------------------------------------------------\n",
            "27 fits failed with the following error:\n",
            "Traceback (most recent call last):\n",
            "  File \"/usr/local/lib/python3.7/dist-packages/sklearn/model_selection/_validation.py\", line 680, in _fit_and_score\n",
            "    estimator.fit(X_train, y_train, **fit_params)\n",
            "  File \"/usr/local/lib/python3.7/dist-packages/sklearn/linear_model/_logistic.py\", line 1461, in fit\n",
            "    solver = _check_solver(self.solver, self.penalty, self.dual)\n",
            "  File \"/usr/local/lib/python3.7/dist-packages/sklearn/linear_model/_logistic.py\", line 459, in _check_solver\n",
            "    solver\n",
            "ValueError: Only 'saga' solver supports elasticnet penalty, got solver=liblinear.\n",
            "\n",
            "--------------------------------------------------------------------------------\n",
            "27 fits failed with the following error:\n",
            "Traceback (most recent call last):\n",
            "  File \"/usr/local/lib/python3.7/dist-packages/sklearn/model_selection/_validation.py\", line 680, in _fit_and_score\n",
            "    estimator.fit(X_train, y_train, **fit_params)\n",
            "  File \"/usr/local/lib/python3.7/dist-packages/sklearn/linear_model/_logistic.py\", line 1461, in fit\n",
            "    solver = _check_solver(self.solver, self.penalty, self.dual)\n",
            "  File \"/usr/local/lib/python3.7/dist-packages/sklearn/linear_model/_logistic.py\", line 449, in _check_solver\n",
            "    % (solver, penalty)\n",
            "ValueError: Solver sag supports only 'l2' or 'none' penalties, got elasticnet penalty.\n",
            "\n",
            "--------------------------------------------------------------------------------\n",
            "27 fits failed with the following error:\n",
            "Traceback (most recent call last):\n",
            "  File \"/usr/local/lib/python3.7/dist-packages/sklearn/model_selection/_validation.py\", line 680, in _fit_and_score\n",
            "    estimator.fit(X_train, y_train, **fit_params)\n",
            "  File \"/usr/local/lib/python3.7/dist-packages/sklearn/linear_model/_logistic.py\", line 1473, in fit\n",
            "    % self.l1_ratio\n",
            "ValueError: l1_ratio must be between 0 and 1; got (l1_ratio=None)\n",
            "\n",
            "  warnings.warn(some_fits_failed_message, FitFailedWarning)\n",
            "/usr/local/lib/python3.7/dist-packages/sklearn/model_selection/_search.py:972: UserWarning: One or more of the test scores are non-finite: [       nan 0.28177966        nan 0.28107345 0.26765537 0.27612994\n",
            " 0.26765537 0.26483051        nan        nan        nan        nan\n",
            "        nan 0.26412429        nan 0.25564972 0.25635593 0.25706215\n",
            " 0.25635593 0.25564972        nan        nan        nan        nan\n",
            "        nan 0.25564972        nan 0.25       0.25918079 0.25847458\n",
            " 0.25918079 0.25988701        nan        nan        nan        nan\n",
            "        nan 0.24576271        nan 0.24646893 0.25635593 0.25706215\n",
            " 0.25635593 0.2549435         nan        nan        nan        nan\n",
            "        nan 0.24152542        nan 0.24364407 0.25423729 0.25282486\n",
            " 0.25423729 0.25353107        nan        nan        nan        nan\n",
            "        nan 0.24364407        nan 0.24293785 0.25       0.25070621\n",
            " 0.25       0.24929379        nan        nan        nan        nan\n",
            "        nan 0.2450565         nan 0.24364407 0.25       0.25070621\n",
            " 0.25       0.24858757        nan        nan        nan        nan\n",
            "        nan 0.2450565         nan 0.24011299 0.24858757 0.25211864\n",
            " 0.24858757 0.24858757        nan        nan        nan        nan\n",
            "        nan 0.24576271        nan 0.24011299 0.24858757 0.25\n",
            " 0.24858757 0.24929379        nan        nan        nan        nan]\n",
            "  category=UserWarning,\n"
          ]
        },
        {
          "output_type": "execute_result",
          "data": {
            "text/plain": [
              "GridSearchCV(cv=3, estimator=LogisticRegression(max_iter=1000),\n",
              "             param_grid={'C': range(1, 10),\n",
              "                         'penalty': ['l1', 'l2', 'elasticnet'],\n",
              "                         'solver': ['lbfgs', 'liblinear', 'sag', 'saga']})"
            ]
          },
          "metadata": {},
          "execution_count": 353
        }
      ],
      "source": [
        "grid_search_cv.fit(train_x_dtm, train_y)"
      ]
    },
    {
      "cell_type": "code",
      "execution_count": 354,
      "metadata": {
        "colab": {
          "base_uri": "https://localhost:8080/"
        },
        "id": "rp7LlQ2BoX2Y",
        "outputId": "2d08c11b-2945-4d3f-c594-40a07948f646"
      },
      "outputs": [
        {
          "output_type": "execute_result",
          "data": {
            "text/plain": [
              "{'C': 1, 'penalty': 'l1', 'solver': 'liblinear'}"
            ]
          },
          "metadata": {},
          "execution_count": 354
        }
      ],
      "source": [
        "grid_search_cv.best_params_"
      ]
    },
    {
      "cell_type": "code",
      "execution_count": 355,
      "metadata": {
        "colab": {
          "base_uri": "https://localhost:8080/"
        },
        "id": "X72tvGU-oq_B",
        "outputId": "67704672-2fa1-4cf2-e0d9-ee299fd89ebc"
      },
      "outputs": [
        {
          "output_type": "execute_result",
          "data": {
            "text/plain": [
              "0.2817796610169492"
            ]
          },
          "metadata": {},
          "execution_count": 355
        }
      ],
      "source": [
        "acc_score = grid_search_cv.best_score_\n",
        "acc_score"
      ]
    },
    {
      "cell_type": "code",
      "source": [
        "acc_lst.append(acc_score)\n",
        "mdl_lst.append('LR_GS')"
      ],
      "metadata": {
        "id": "o6lG-LUBFgY1"
      },
      "execution_count": 356,
      "outputs": []
    },
    {
      "cell_type": "markdown",
      "metadata": {
        "id": "VJZMiN1G0PIJ"
      },
      "source": [
        "# Deep Learming Model - LSTM Implementation"
      ]
    },
    {
      "cell_type": "code",
      "execution_count": 357,
      "metadata": {
        "id": "CFv68yoA0g8O"
      },
      "outputs": [],
      "source": [
        "from keras.preprocessing.text import Tokenizer\n",
        "from keras.models import Sequential\n",
        "from keras.layers import Embedding, SpatialDropout1D\n",
        "from keras.layers import LSTM\n",
        "from keras.layers import Dense\n",
        "from keras.callbacks import EarlyStopping\n",
        "from keras.preprocessing.sequence import pad_sequences\n",
        "\n",
        "# Applying DL based model ----------------------------------------------------------------------------------------------\n",
        "# LSTM Model\n",
        "# The maximum number of words\n",
        "max_words = 50000\n",
        "# Max number of words in each comment\n",
        "max_comment_length = 300\n",
        "\n",
        "EMBEDDING_DIM = 100\n",
        "\n",
        "tokenizer = Tokenizer(num_words=max_words)\n",
        "tokenizer.fit_on_texts(df['Comment'].values)\n",
        "\n",
        "feature = tokenizer.texts_to_sequences(df['Comment'].values)\n",
        "feature = pad_sequences(feature, maxlen=max_comment_length)\n",
        "\n",
        "target = pd.get_dummies(df['Tag']).values\n",
        "\n",
        "train_x_dl, test_x_dl, train_y_dl, test_y_dl = train_test_split(feature, target, test_size=.15, random_state=75)\n",
        "\n"
      ]
    },
    {
      "cell_type": "code",
      "source": [
        "train_x_dl.shape"
      ],
      "metadata": {
        "colab": {
          "base_uri": "https://localhost:8080/"
        },
        "id": "WzEj-La-DdHR",
        "outputId": "e98dacca-3965-4d7b-beae-81d9f559b8d1"
      },
      "execution_count": 358,
      "outputs": [
        {
          "output_type": "execute_result",
          "data": {
            "text/plain": [
              "(1504, 300)"
            ]
          },
          "metadata": {},
          "execution_count": 358
        }
      ]
    },
    {
      "cell_type": "code",
      "source": [
        "model = Sequential()\n",
        "model.add(Embedding(max_words, EMBEDDING_DIM, input_length=feature.shape[1]))\n",
        "model.add(SpatialDropout1D(0.2))\n",
        "model.add(LSTM(100, dropout=0.2, recurrent_dropout=0.2))\n",
        "model.add(Dense(13, activation='softmax'))\n",
        "model.add(Dense(1, activation='softmax'))\n",
        "model.add(Dense(5, activation='softmax'))\n",
        "model.compile(loss='categorical_crossentropy', optimizer='adam', metrics=['accuracy'])\n",
        "\n",
        "epochs = 10\n",
        "batch_size = 1500\n",
        "\n",
        "history = model.fit(train_x_dl, train_y_dl, epochs=epochs, batch_size=batch_size, validation_split=0.1,\n",
        "                    callbacks=[EarlyStopping(monitor='val_loss', patience=3, min_delta=0.0001)])\n",
        "\n",
        "accuracy = model.evaluate(test_x_dl, test_y_dl)\n",
        "acc_score = accuracy[1]\n",
        "\n",
        "print('Test set\\n  Loss: {:0.3f}\\n  Accuracy: {:0.3f}'.format(accuracy[0], accuracy[1]))\n",
        "print(acc_score)"
      ],
      "metadata": {
        "colab": {
          "base_uri": "https://localhost:8080/"
        },
        "id": "HfJwj9S7Dla2",
        "outputId": "4141472d-b627-4f80-c534-25d90b7cd2ef"
      },
      "execution_count": 359,
      "outputs": [
        {
          "output_type": "stream",
          "name": "stdout",
          "text": [
            "Epoch 1/10\n",
            "1/1 [==============================] - 13s 13s/step - loss: 1.7501 - accuracy: 0.1552 - val_loss: 1.7825 - val_accuracy: 0.1391\n",
            "Epoch 2/10\n",
            "1/1 [==============================] - 10s 10s/step - loss: 1.7492 - accuracy: 0.1552 - val_loss: 1.7814 - val_accuracy: 0.1391\n",
            "Epoch 3/10\n",
            "1/1 [==============================] - 10s 10s/step - loss: 1.7482 - accuracy: 0.1552 - val_loss: 1.7804 - val_accuracy: 0.1391\n",
            "Epoch 4/10\n",
            "1/1 [==============================] - 10s 10s/step - loss: 1.7473 - accuracy: 0.1552 - val_loss: 1.7793 - val_accuracy: 0.1391\n",
            "Epoch 5/10\n",
            "1/1 [==============================] - 10s 10s/step - loss: 1.7464 - accuracy: 0.1552 - val_loss: 1.7782 - val_accuracy: 0.1391\n",
            "Epoch 6/10\n",
            "1/1 [==============================] - 10s 10s/step - loss: 1.7455 - accuracy: 0.1552 - val_loss: 1.7772 - val_accuracy: 0.1391\n",
            "Epoch 7/10\n",
            "1/1 [==============================] - 10s 10s/step - loss: 1.7446 - accuracy: 0.1552 - val_loss: 1.7761 - val_accuracy: 0.1391\n",
            "Epoch 8/10\n",
            "1/1 [==============================] - 10s 10s/step - loss: 1.7437 - accuracy: 0.1552 - val_loss: 1.7751 - val_accuracy: 0.1391\n",
            "Epoch 9/10\n",
            "1/1 [==============================] - 10s 10s/step - loss: 1.7428 - accuracy: 0.1552 - val_loss: 1.7740 - val_accuracy: 0.1391\n",
            "Epoch 10/10\n",
            "1/1 [==============================] - 15s 15s/step - loss: 1.7419 - accuracy: 0.1552 - val_loss: 1.7730 - val_accuracy: 0.1391\n",
            "9/9 [==============================] - 1s 65ms/step - loss: 1.6875 - accuracy: 0.2030\n",
            "Test set\n",
            "  Loss: 1.687\n",
            "  Accuracy: 0.203\n",
            "0.2030075192451477\n"
          ]
        }
      ]
    },
    {
      "cell_type": "code",
      "source": [
        "acc_lst.append(acc_score)\n",
        "mdl_lst.append('LSTM')"
      ],
      "metadata": {
        "id": "kxojZjwRFtOZ"
      },
      "execution_count": 360,
      "outputs": []
    },
    {
      "cell_type": "markdown",
      "source": [
        "# Show accuracy graph for different models"
      ],
      "metadata": {
        "id": "vntSPdxCGKss"
      }
    },
    {
      "cell_type": "code",
      "source": [
        "draw_bar_graph(mdl_lst, acc_lst, 'red', 'model type', 'accuracy', 'Model accuracy analysis')"
      ],
      "metadata": {
        "colab": {
          "base_uri": "https://localhost:8080/",
          "height": 351
        },
        "id": "iTTfDD9wF_VL",
        "outputId": "19c91170-b1ff-4b3e-ff4e-098d2607fa5a"
      },
      "execution_count": 361,
      "outputs": [
        {
          "output_type": "display_data",
          "data": {
            "text/plain": [
              "<Figure size 720x360 with 1 Axes>"
            ],
            "image/png": "[encoded data removed]"
          },
          "metadata": {
            "needs_background": "light"
          }
        }
      ]
    }
  ],
  "metadata": {
    "colab": {
      "collapsed_sections": [
        "lEgm1HfNGDpd",
        "Hoks0TktCZSJ",
        "i9ulxeFMQA0V",
        "FaslHkSnTGd9",
        "gQPwxtyql4Yo",
        "tOdsdGZ6Pyus",
        "SNDQe3pcVUUs",
        "pMYuLXFYJzPB",
        "H1eel5TkSCrD",
        "5uLTNGPMstm9",
        "h5nAYst2sOuB",
        "QK5810SUlL5S",
        "GU9AFscJr87f",
        "G-a3iLd4uVpD",
        "VZOtiF2DvYuj"
      ],
      "name": "Bangla_Sentiment_Analysis (6).ipynb",
      "provenance": []
    },
    "kernelspec": {
      "display_name": "Python 3",
      "name": "python3"
    },
    "language_info": {
      "name": "python"
    }
  },
  "nbformat": 4,
  "nbformat_minor": 0
}